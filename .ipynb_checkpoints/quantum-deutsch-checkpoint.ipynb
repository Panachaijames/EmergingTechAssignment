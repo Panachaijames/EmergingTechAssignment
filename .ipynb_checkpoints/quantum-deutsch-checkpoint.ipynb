{
 "cells": [
  {
   "cell_type": "markdown",
   "id": "7c3624d6-d448-473f-a0f4-11917f1ba2e1",
   "metadata": {},
   "source": [
    "## Quantum Computing\n",
    "***"
   ]
  },
  {
   "cell_type": "markdown",
   "id": "9867b5c8-693c-4ed7-a8f8-ea8b53be7483",
   "metadata": {},
   "source": [
    "Since the early 20th century that the atom physic was found nothing could ever defied that until now, Quantum Physic. Quantum Particle can move forward and backward in time, can exist in 2 place at the same time and even teleport, It’s these strange behaviours that quantum computers aim to use to their advantage. "
   ]
  },
  {
   "cell_type": "markdown",
   "id": "b9e0d76a-4d18-4b81-b1c1-c7e6d5da5c5b",
   "metadata": {},
   "source": []
  },
  {
   "cell_type": "markdown",
   "id": "564f3967-d386-4ba9-a2c5-c06794ed8296",
   "metadata": {},
   "source": [
    "Classical computers manipulate ones and zeroes to crunch through operations, but quantum computers use quantum bits or qubits. Just like classical computers, quantum computers use ones and zeros, but qubits have a third state called “superposition” that allows them to represent a one or a zero at the same time. Instead of analysing a one or a zero sequentially, superposition allows two qubits in superposition to represent four scenarios at the same time. Therefore, the time it takes to crunch a data set is significantly reduced."
   ]
  },
  {
   "cell_type": "markdown",
   "id": "ed4ef646-1ad7-4ad6-bbb4-59b3602054ff",
   "metadata": {},
   "source": [
    "The Deutsch–Jozsa problem is specifically designed to be easy for a quantum algorithm and hard for any deterministic classical algorithm. The motivation is to show a black box problem that can be solved efficiently by a quantum computer with no error, whereas a deterministic classical computer would need a large number of queries to the black box to solve the problem. More formally, it yields an oracle relative to which EQP, the class of problems that can be solved exactly in polynomial time on a quantum computer, and P are different.\n",
    "\n",
    "Since the problem is easy to solve on a probabilistic classical computer, it does not yield an oracle separation with BPP, the class of problems that can be solved with bounded error in polynomial time on a probabilistic classical computer. Simon's problem is an example of a problem that yields an oracle separation between BQP and BPP."
   ]
  },
  {
   "cell_type": "code",
   "execution_count": null,
   "id": "6441eb70-fd79-427f-a436-68a864d4d2df",
   "metadata": {},
   "outputs": [],
   "source": []
  },
  {
   "cell_type": "code",
   "execution_count": null,
   "id": "0d86d919-51cf-47c1-82bc-0f1ffba09e6f",
   "metadata": {},
   "outputs": [],
   "source": []
  },
  {
   "cell_type": "code",
   "execution_count": null,
   "id": "be84541f-51ea-4a86-a4ce-c0f02ec6d612",
   "metadata": {},
   "outputs": [],
   "source": []
  }
 ],
 "metadata": {
  "kernelspec": {
   "display_name": "Python 3 (ipykernel)",
   "language": "python",
   "name": "python3"
  },
  "language_info": {
   "codemirror_mode": {
    "name": "ipython",
    "version": 3
   },
   "file_extension": ".py",
   "mimetype": "text/x-python",
   "name": "python",
   "nbconvert_exporter": "python",
   "pygments_lexer": "ipython3",
   "version": "3.9.7"
  }
 },
 "nbformat": 4,
 "nbformat_minor": 5
}
