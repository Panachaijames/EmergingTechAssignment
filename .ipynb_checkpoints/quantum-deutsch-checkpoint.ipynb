{
 "cells": [
  {
   "cell_type": "markdown",
   "id": "7c3624d6-d448-473f-a0f4-11917f1ba2e1",
   "metadata": {},
   "source": [
    "## Quantum Computing\n",
    "***"
   ]
  },
  {
   "cell_type": "markdown",
   "id": "9867b5c8-693c-4ed7-a8f8-ea8b53be7483",
   "metadata": {},
   "source": [
    "From the early 20th century, when atom physics was discovered, nothing could ever defy that until quantum physics was found. Quantum particles can move forward and backward in time, exist simultaneously in two places and even teleport. Quantum computers aim to utilize these strange behaviors to their advantage. Richard Feyman, 1965 Nobel Laureate in Physics and one of the fathers of quantum computing in the 1980s, famously said, \"I think I can safely say that nobody understands quantum mechanics”.\n",
    "\n",
    "IBM unveiled the Q System, the world's first quantum computer, in 2019 and explained to newcomers that a quantum computer is capable of solving (much more quickly) a set of much more complex calculations than traditional computers. As a unit of value, \"qubits\" are expected to outpace the traditional bits of classical computing.  In the following article, Juan José García Ripoll, researcher at the Institute of Fundamental Physics within the Spanish National Research Council, provides further insight. \"In classical computing we know how to solve problems thanks to computer language (AND, OR NOT) used when programming. Operations that are not feasible in bit computing can be performed with a quantum computer. In a quantum computer all the numbers and possibilities that can be created with N qubits are superimposed (if there are 3 qubits, there will be 8 simultaneous possible permutations.) With 1,000 qubits the exponential possibilities far exceed those that we have in classical computing”.\n",
    "\n",
    "In contrast to classical computing, there are no quantum computing languages at this time. Researchers work to develop algorithms (mathematics models that classical computers also use) that provide concrete solutions to the problems that are presented. \"They work differently. A quantum computer isn't suitable for performing day-to-day tasks\", Garcia Ripoll explains. \"They don't have memory or a processor. We only have a group of qubits that we use to write information, and we work with those. There isn't an architecture as complicated as the architecture for a conventional computer. Today, quantum machines are primitive systems akin to a calculator at the turn of the last century, but their computing power for very specific problems is much greater than a traditional computer's. There is a dichotomy between what appears very simple and what it does, which is very powerful,” García Ripoll points out."
   ]
  },
  {
   "cell_type": "markdown",
   "id": "b9e0d76a-4d18-4b81-b1c1-c7e6d5da5c5b",
   "metadata": {},
   "source": [
    "#### These are some Key different between Quantum and Classic computers"
   ]
  },
  {
   "cell_type": "markdown",
   "id": "564f3967-d386-4ba9-a2c5-c06794ed8296",
   "metadata": {},
   "source": [
    " - The quantum computer processes information differently from classical computers. Instead of relying on transistors, which can only represent either the \"1\" or the \"0\" of binary information at a time, quantum computers use qubits, which can represent both the \"0\" and the \"1\""
   ]
  },
  {
   "cell_type": "markdown",
   "id": "ed4ef646-1ad7-4ad6-bbb4-59b3602054ff",
   "metadata": {},
   "source": [
    " - A quantum computer’s power grows exponentially in relation to the number of qubits linked together. This differs from a conventional computer, which sees its power increase in direct proportion to the number of transistors. It is for this reason that quantum computers could eventually provide much better performance than classical ones."
   ]
  },
  {
   "cell_type": "markdown",
   "id": "195741bb-5170-4989-b955-95ab85a2c701",
   "metadata": {},
   "source": [
    " - Despite the fact that quantum computers could drastically outperform classical computers at some tasks — Optimizing delivery routes or simulating chemical reactions, for example — The problem with them is that they are difficult to build and are not expected to offer many advantages in many types of calculations. So even when powerful quantum computers start to appear, most everyday tasks are likely to be handled better by conventional computers."
   ]
  },
  {
   "cell_type": "code",
   "execution_count": 8,
   "id": "6ba5ca55-42f7-47cd-af26-8d91fda9435c",
   "metadata": {},
   "outputs": [
    {
     "data": {
      "text/html": [
       "<img src=\"https://research-assets.cbinsights.com/2020/12/22124918/Quantum_computing_classical_qubit_infographic_122020.png\" width=\"700\" height=\"700\"/>"
      ],
      "text/plain": [
       "<IPython.core.display.Image object>"
      ]
     },
     "execution_count": 8,
     "metadata": {},
     "output_type": "execute_result"
    }
   ],
   "source": [
    "from IPython.display import Image\n",
    "from IPython.core.display import HTML \n",
    "Image(url= \"https://research-assets.cbinsights.com/2020/12/22124918/Quantum_computing_classical_qubit_infographic_122020.png\", height = 700, width = 700)"
   ]
  },
  {
   "cell_type": "markdown",
   "id": "8050cebf-33af-4fc6-8bb9-9aa4f219bd30",
   "metadata": {},
   "source": [
    "***\n",
    "## The Deutsch-Jozsa algorithm"
   ]
  },
  {
   "cell_type": "raw",
   "id": "b0d259ca-806b-4766-9be1-b81a0d526003",
   "metadata": {},
   "source": [
    "The Deutsch-Jozsa algorithm was the first to distinguish between quantum and classical difficulty of a problem. As shown by this algorithm, quantum amplitudes can take positive as well as negative values, contrary to classical probabilities that can never be negative."
   ]
  },
  {
   "cell_type": "markdown",
   "id": "eb88c619-a1ff-43bd-a1d7-a11c06e5f9e9",
   "metadata": {},
   "source": [
    "### The problem setting"
   ]
  },
  {
   "cell_type": "markdown",
   "id": "1fa3ef98-4337-4061-ac16-28deccd6e8a4",
   "metadata": {},
   "source": [
    "Let us consider the following problem: There is a univariate function $f$ , defined over the binary alphabet $0,1$, with output range in the same alphabet $0,1$. I.e., $f:0,1⟶0,1$. \n",
    "With a bit of inspection, and making no assumptions about $f$, there are four possible configurations for the function $f$:"
   ]
  },
  {
   "cell_type": "markdown",
   "id": "4e0ce631-d42b-4b67-ad05-a2c0f091c03b",
   "metadata": {},
   "source": [
    "With a bit of inspection, and making no assumptions about $f$, there are four possible configurations for the function $f$:"
   ]
  },
  {
   "cell_type": "markdown",
   "id": "da04a319-30db-4cc4-ad8d-a5f1ef943df2",
   "metadata": {},
   "source": [
    " - Both inputs $0,1$ are mapped to the output $0:f(0)=f(1)=0$."
   ]
  },
  {
   "cell_type": "markdown",
   "id": "9c7ba871-7eae-4828-b3ab-29f8273ed431",
   "metadata": {},
   "source": [
    " - Both inputs $0,1$ are mapped to the output $1:f(0)=f(1)=1$."
   ]
  },
  {
   "cell_type": "markdown",
   "id": "181463ab-d673-4a51-8628-076f870cecf8",
   "metadata": {},
   "source": [
    " - Inputs pass through $f$ unchanged: $f(0)=0$ and $f(1)=1$."
   ]
  },
  {
   "cell_type": "markdown",
   "id": "6aa68285-08ba-4eb3-9b8e-093be45690bc",
   "metadata": {},
   "source": [
    " - Inputs are exchanged after passing through $f:f(0)=1$ and $f(1)=0$."
   ]
  },
  {
   "cell_type": "markdown",
   "id": "24ac5449-6e2e-4160-a973-0920e73a2363",
   "metadata": {},
   "source": [
    "We will call the first two cases as $f$ being “constant” (i.e., whatever input we insert, the function behaves the same way), and the last two cases as $f$ being balanced.\n",
    "\n",
    "The question is the following: Given a function $f:0,1⟶0,1$ and without knowing anything more than that, determine whether $f$ is a constant or a balanced function with the minimum number of function evaluations."
   ]
  },
  {
   "cell_type": "markdown",
   "id": "5779ad38-035e-48c8-a980-3549ff34ba3d",
   "metadata": {},
   "source": [
    "### What a classic algorithm would do?"
   ]
  },
  {
   "cell_type": "markdown",
   "id": "f9be9585-90fd-449d-9fb4-be590a908ba2",
   "metadata": {},
   "source": [
    "In the classical sense, an algorithm that solves this problem would implement an if-then-else statement:"
   ]
  },
  {
   "cell_type": "raw",
   "id": "bf3c6ba0-c1c7-4d5c-805f-550675b34d4c",
   "metadata": {},
   "source": [
    "if f(0) = 0:\n",
    "\tif f(1) = 0:\n",
    "\t\tprint(\"Constant\")\n",
    "\telse: \n",
    "\t\tprint(\"Balanced\")\n",
    "else:\n",
    "\tif f(1) = 0:\n",
    "\t\tprint(\"Balanced\")\n",
    "\telse: \n",
    "\t\tprint(\"Constant\")"
   ]
  },
  {
   "cell_type": "markdown",
   "id": "71eac1f6-81da-49db-a565-38881bbf479a",
   "metadata": {},
   "source": [
    "as you can see, we require two function evaluations to figure out the answer. In the next sections, we will see how we exploit superposition of states in quantum machines to solve the problem more efficiently."
   ]
  },
  {
   "cell_type": "markdown",
   "id": "7f482059-bbad-4292-8dbf-110ef7fc0a85",
   "metadata": {},
   "source": [
    "***\n",
    "## Qiskit"
   ]
  },
  {
   "cell_type": "code",
   "execution_count": 1,
   "id": "8655c07a-a7e2-46d0-9abb-d30c856a4b74",
   "metadata": {},
   "outputs": [
    {
     "ename": "ModuleNotFoundError",
     "evalue": "No module named 'qiskit'",
     "output_type": "error",
     "traceback": [
      "\u001b[0;31m---------------------------------------------------------------------------\u001b[0m",
      "\u001b[0;31mModuleNotFoundError\u001b[0m                       Traceback (most recent call last)",
      "\u001b[0;32m/tmp/ipykernel_52/1096557853.py\u001b[0m in \u001b[0;36m<module>\u001b[0;34m\u001b[0m\n\u001b[0;32m----> 1\u001b[0;31m \u001b[0;32mimport\u001b[0m \u001b[0mqiskit\u001b[0m\u001b[0;34m\u001b[0m\u001b[0;34m\u001b[0m\u001b[0m\n\u001b[0m",
      "\u001b[0;31mModuleNotFoundError\u001b[0m: No module named 'qiskit'"
     ]
    }
   ],
   "source": [
    "import qiskit"
   ]
  },
  {
   "cell_type": "code",
   "execution_count": 2,
   "id": "88fe5b3b-7fa2-4bb3-82c1-604adbf1ae23",
   "metadata": {},
   "outputs": [
    {
     "ename": "ModuleNotFoundError",
     "evalue": "No module named 'qiskit'",
     "output_type": "error",
     "traceback": [
      "\u001b[0;31m---------------------------------------------------------------------------\u001b[0m",
      "\u001b[0;31mModuleNotFoundError\u001b[0m                       Traceback (most recent call last)",
      "\u001b[0;32m/tmp/ipykernel_52/1306137473.py\u001b[0m in \u001b[0;36m<module>\u001b[0;34m\u001b[0m\n\u001b[0;32m----> 1\u001b[0;31m \u001b[0;32mimport\u001b[0m \u001b[0mqiskit\u001b[0m\u001b[0;34m.\u001b[0m\u001b[0mproviders\u001b[0m\u001b[0;34m.\u001b[0m\u001b[0maer\u001b[0m \u001b[0;32mas\u001b[0m \u001b[0maer\u001b[0m\u001b[0;34m\u001b[0m\u001b[0;34m\u001b[0m\u001b[0m\n\u001b[0m",
      "\u001b[0;31mModuleNotFoundError\u001b[0m: No module named 'qiskit'"
     ]
    }
   ],
   "source": [
    "import qiskit.providers.aer as aer"
   ]
  },
  {
   "cell_type": "code",
   "execution_count": 13,
   "id": "114b3751-b9ff-4965-a1c9-3a24e8b46771",
   "metadata": {},
   "outputs": [],
   "source": [
    "import matplotlib.pyplot as plt"
   ]
  },
  {
   "cell_type": "code",
   "execution_count": 14,
   "id": "766b510d-d173-405b-934d-c259eb43c55f",
   "metadata": {},
   "outputs": [],
   "source": [
    "plt.style.use('ggplot')"
   ]
  },
  {
   "cell_type": "markdown",
   "id": "13b2c2fe-cb3b-48fe-bbb3-cd6d722a0d44",
   "metadata": {},
   "source": [
    "***\n",
    "## END"
   ]
  }
 ],
 "metadata": {
  "kernelspec": {
   "display_name": "Python 3 (ipykernel)",
   "language": "python",
   "name": "python3"
  },
  "language_info": {
   "codemirror_mode": {
    "name": "ipython",
    "version": 3
   },
   "file_extension": ".py",
   "mimetype": "text/x-python",
   "name": "python",
   "nbconvert_exporter": "python",
   "pygments_lexer": "ipython3",
   "version": "3.9.7"
  }
 },
 "nbformat": 4,
 "nbformat_minor": 5
}
