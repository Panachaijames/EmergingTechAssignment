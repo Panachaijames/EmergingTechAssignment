{
 "cells": [
  {
   "cell_type": "markdown",
   "id": "0af27647",
   "metadata": {},
   "source": [
    "## Quantum Computing\n",
    "***"
   ]
  },
  {
   "cell_type": "markdown",
   "id": "8ff30f9f",
   "metadata": {},
   "source": [
    "From the early 20th century, when atom physics was discovered, nothing could ever defy that until quantum physics was found. Quantum particles can move forward and backward in time, exist simultaneously in two places and even teleport. Quantum computers aim to utilize these strange behaviors to their advantage. Richard Feyman, 1965 Nobel Laureate in Physics and one of the fathers of quantum computing in the 1980s, famously said, \"I think I can safely say that nobody understands quantum mechanics”.\n",
    "\n",
    "IBM unveiled the Q System, the world's first quantum computer, in 2019 and explained to newcomers that a quantum computer is capable of solving (much more quickly) a set of much more complex calculations than traditional computers. As a unit of value, \"qubits\" are expected to outpace the traditional bits of classical computing.  In the following article, Juan José García Ripoll, researcher at the Institute of Fundamental Physics within the Spanish National Research Council, provides further insight. \"In classical computing we know how to solve problems thanks to computer language (AND, OR NOT) used when programming. Operations that are not feasible in bit computing can be performed with a quantum computer. In a quantum computer all the numbers and possibilities that can be created with N qubits are superimposed (if there are 3 qubits, there will be 8 simultaneous possible permutations.) With 1,000 qubits the exponential possibilities far exceed those that we have in classical computing”.\n",
    "\n",
    "In contrast to classical computing, there are no quantum computing languages at this time. Researchers work to develop algorithms (mathematics models that classical computers also use) that provide concrete solutions to the problems that are presented. \"They work differently. A quantum computer isn't suitable for performing day-to-day tasks\", Garcia Ripoll explains. \"They don't have memory or a processor. We only have a group of qubits that we use to write information, and we work with those. There isn't an architecture as complicated as the architecture for a conventional computer. Today, quantum machines are primitive systems akin to a calculator at the turn of the last century, but their computing power for very specific problems is much greater than a traditional computer's. There is a dichotomy between what appears very simple and what it does, which is very powerful,” García Ripoll points out."
   ]
  },
  {
   "cell_type": "markdown",
   "id": "18ab2f0f",
   "metadata": {},
   "source": [
    "#### These are some Key different between Quantum and Classic computers"
   ]
  },
  {
   "cell_type": "markdown",
   "id": "a53209db",
   "metadata": {},
   "source": [
    " - The quantum computer processes information differently from classical computers. Instead of relying on transistors, which can only represent either the \"1\" or the \"0\" of binary information at a time, quantum computers use qubits, which can represent both the \"0\" and the \"1\""
   ]
  },
  {
   "cell_type": "markdown",
   "id": "3c578c1c",
   "metadata": {},
   "source": [
    " - A quantum computer’s power grows exponentially in relation to the number of qubits linked together. This differs from a conventional computer, which sees its power increase in direct proportion to the number of transistors. It is for this reason that quantum computers could eventually provide much better performance than classical ones."
   ]
  },
  {
   "cell_type": "markdown",
   "id": "b6124d15",
   "metadata": {},
   "source": [
    " - Despite the fact that quantum computers could drastically outperform classical computers at some tasks — Optimizing delivery routes or simulating chemical reactions, for example — The problem with them is that they are difficult to build and are not expected to offer many advantages in many types of calculations. So even when powerful quantum computers start to appear, most everyday tasks are likely to be handled better by conventional computers."
   ]
  },
  {
   "cell_type": "code",
   "execution_count": 8,
   "id": "e385d296",
   "metadata": {},
   "outputs": [
    {
     "data": {
      "text/html": [
       "<img src=\"https://research-assets.cbinsights.com/2020/12/22124918/Quantum_computing_classical_qubit_infographic_122020.png\" width=\"700\" height=\"700\"/>"
      ],
      "text/plain": [
       "<IPython.core.display.Image object>"
      ]
     },
     "execution_count": 8,
     "metadata": {},
     "output_type": "execute_result"
    }
   ],
   "source": [
    "from IPython.display import Image\n",
    "from IPython.core.display import HTML \n",
    "Image(url= \"https://research-assets.cbinsights.com/2020/12/22124918/Quantum_computing_classical_qubit_infographic_122020.png\", height = 700, width = 700)"
   ]
  },
  {
   "cell_type": "markdown",
   "id": "af7c6377-f65f-4df4-81dd-28571e0cce0c",
   "metadata": {},
   "source": [
    "***\n",
    "## Complex numbers\n",
    "***"
   ]
  },
  {
   "cell_type": "markdown",
   "id": "6ee5add5-39fd-4d4b-ab6c-20a13afa8ba9",
   "metadata": {},
   "source": [
    "### Setup"
   ]
  },
  {
   "cell_type": "code",
   "execution_count": 1,
   "id": "c14c7cbd-4103-4caa-90fd-5a89cde4f5f5",
   "metadata": {},
   "outputs": [],
   "source": [
    "# Plotting.\n",
    "import matplotlib.pyplot as plt\n",
    "\n",
    "# Numerical arrays.\n",
    "import numpy as np"
   ]
  },
  {
   "cell_type": "code",
   "execution_count": 2,
   "id": "e1be29a4-4532-4fdf-8c96-36ebc8c1f8d9",
   "metadata": {},
   "outputs": [],
   "source": [
    "# Plots size.\n",
    "plt.rcParams['figure.figsize'] = (20, 10)\n",
    "# Plot style.\n",
    "plt.style.use('seaborn-whitegrid')"
   ]
  },
  {
   "cell_type": "markdown",
   "id": "b065cbf3-42bb-40f1-b457-e2a9948d02dd",
   "metadata": {},
   "source": [
    "### Built-in in Python¶"
   ]
  },
  {
   "cell_type": "code",
   "execution_count": 3,
   "id": "a4d0ce8c-da8b-4fb9-b861-a3733e152c9b",
   "metadata": {},
   "outputs": [
    {
     "data": {
      "text/plain": [
       "(-1+0j)"
      ]
     },
     "execution_count": 3,
     "metadata": {},
     "output_type": "execute_result"
    }
   ],
   "source": [
    "1.0j * 1.0j"
   ]
  },
  {
   "cell_type": "code",
   "execution_count": 4,
   "id": "d548f976-6dd3-48df-b887-98273a3e6d48",
   "metadata": {},
   "outputs": [
    {
     "data": {
      "text/plain": [
       "(-2+5j)"
      ]
     },
     "execution_count": 4,
     "metadata": {},
     "output_type": "execute_result"
    }
   ],
   "source": [
    "x = -2.0 + 5.0j\n",
    "x"
   ]
  },
  {
   "cell_type": "code",
   "execution_count": 5,
   "id": "507357d2-e3f8-47c1-a870-7e015b600188",
   "metadata": {},
   "outputs": [
    {
     "data": {
      "text/plain": [
       "(-21-20j)"
      ]
     },
     "execution_count": 5,
     "metadata": {},
     "output_type": "execute_result"
    }
   ],
   "source": [
    "x**2"
   ]
  },
  {
   "cell_type": "code",
   "execution_count": 6,
   "id": "04dee654-b1c0-4a94-a574-489decf74e02",
   "metadata": {},
   "outputs": [
    {
     "data": {
      "text/plain": [
       "(3+1.5j)"
      ]
     },
     "execution_count": 6,
     "metadata": {},
     "output_type": "execute_result"
    }
   ],
   "source": [
    "y = 3.0 + 1.5j\n",
    "y"
   ]
  },
  {
   "cell_type": "code",
   "execution_count": 7,
   "id": "1a8dc2c1-d065-4f31-a036-7d169c705621",
   "metadata": {},
   "outputs": [
    {
     "data": {
      "text/plain": [
       "(1+6.5j)"
      ]
     },
     "execution_count": 7,
     "metadata": {},
     "output_type": "execute_result"
    }
   ],
   "source": [
    "x + y"
   ]
  },
  {
   "cell_type": "code",
   "execution_count": 8,
   "id": "19f72830-34df-4e9d-a371-c597bcc20e8e",
   "metadata": {},
   "outputs": [
    {
     "data": {
      "text/plain": [
       "(-13.5+12j)"
      ]
     },
     "execution_count": 8,
     "metadata": {},
     "output_type": "execute_result"
    }
   ],
   "source": [
    "x * y"
   ]
  },
  {
   "cell_type": "markdown",
   "id": "f58a29aa-d6fb-48b7-bb04-3379d6edac7e",
   "metadata": {},
   "source": [
    "### As pairs"
   ]
  },
  {
   "cell_type": "code",
   "execution_count": 9,
   "id": "f61af260-4bc2-4452-a874-2b9b170b11de",
   "metadata": {},
   "outputs": [
    {
     "data": {
      "text/plain": [
       "[-2.0, 5.0]"
      ]
     },
     "execution_count": 9,
     "metadata": {},
     "output_type": "execute_result"
    }
   ],
   "source": [
    "x = [-2.0, 5.0]\n",
    "x"
   ]
  },
  {
   "cell_type": "code",
   "execution_count": 10,
   "id": "fc95cf68-3352-429e-9450-524c4466d87f",
   "metadata": {},
   "outputs": [
    {
     "data": {
      "text/plain": [
       "[3.0, 1.5]"
      ]
     },
     "execution_count": 10,
     "metadata": {},
     "output_type": "execute_result"
    }
   ],
   "source": [
    "y = [3.0, 1.5]\n",
    "y"
   ]
  },
  {
   "cell_type": "code",
   "execution_count": 11,
   "id": "d9eff047-8fec-4548-83fc-af84e5baf8ed",
   "metadata": {},
   "outputs": [],
   "source": [
    "def add(u, v):\n",
    "    return [u[0] + v[0], u[1] + v[1]]"
   ]
  },
  {
   "cell_type": "code",
   "execution_count": 12,
   "id": "7ae82ee5-497c-45e8-88c0-48c77e8ac6d8",
   "metadata": {},
   "outputs": [
    {
     "data": {
      "text/plain": [
       "[1.0, 6.5]"
      ]
     },
     "execution_count": 12,
     "metadata": {},
     "output_type": "execute_result"
    }
   ],
   "source": [
    "add(x, y)"
   ]
  },
  {
   "cell_type": "code",
   "execution_count": 13,
   "id": "f6116fcd-8b93-49b4-b88f-1f3e38a10307",
   "metadata": {},
   "outputs": [],
   "source": [
    "def mult(u, v):\n",
    "    a, b = u\n",
    "    c, d = v\n",
    "    return [(a * c) - (b * d), (b * c) + (a * d)]"
   ]
  },
  {
   "cell_type": "code",
   "execution_count": 14,
   "id": "c0c28e12-121e-43fb-959e-5fe167cd551e",
   "metadata": {},
   "outputs": [
    {
     "data": {
      "text/plain": [
       "[-13.5, 12.0]"
      ]
     },
     "execution_count": 14,
     "metadata": {},
     "output_type": "execute_result"
    }
   ],
   "source": [
    "mult(x, y)"
   ]
  },
  {
   "cell_type": "markdown",
   "id": "bf6de0e2-fd88-4d98-ac94-b0f3a5e8196d",
   "metadata": {},
   "source": [
    "### Origins"
   ]
  },
  {
   "cell_type": "markdown",
   "id": "f918e6b6-a1b9-4b4a-9af7-8275ab6c778b",
   "metadata": {},
   "source": [
    "$ax^2+bx+c$ <br><br> $e.g.x^2−5x+6$ <br><br> $e.g. 2x^2+5x+10$ <br><br>  $x=−\\frac{b±\\sqrt{b^2−4ac}}{2a}$"
   ]
  },
  {
   "cell_type": "code",
   "execution_count": 15,
   "id": "a843c7a3-a8ea-4adc-8506-d531abbefb11",
   "metadata": {},
   "outputs": [],
   "source": [
    "# A function that returns a function.\n",
    "class quadratic:\n",
    "    def __init__(self, a, b, c):\n",
    "        self.a = a\n",
    "        self.b = b\n",
    "        self.c = c\n",
    "\n",
    "    def __call__(self, x):\n",
    "        return self.a * x**2 + self.b * x + self.c"
   ]
  },
  {
   "cell_type": "code",
   "execution_count": 16,
   "id": "5382ee54-ec08-44c2-8868-2e87537ec672",
   "metadata": {},
   "outputs": [
    {
     "data": {
      "text/plain": [
       "<__main__.quadratic at 0x7f462d6269d0>"
      ]
     },
     "execution_count": 16,
     "metadata": {},
     "output_type": "execute_result"
    }
   ],
   "source": [
    "p = quadratic(a=1.0, b=-5.0, c=6.0)\n",
    "p"
   ]
  },
  {
   "cell_type": "code",
   "execution_count": 17,
   "id": "61b753d4-0c2f-453b-9a17-df3ab341fd26",
   "metadata": {},
   "outputs": [
    {
     "data": {
      "text/plain": [
       "2.0"
      ]
     },
     "execution_count": 17,
     "metadata": {},
     "output_type": "execute_result"
    }
   ],
   "source": [
    "p(1.0)"
   ]
  },
  {
   "cell_type": "code",
   "execution_count": 18,
   "id": "5594c15b-91a6-45df-95d6-93c299a9d106",
   "metadata": {},
   "outputs": [],
   "source": [
    "# Create an array of 1000 evenly-spaced values between 0 and 5.\n",
    "x = np.linspace(0.0, 5.0, 1000)"
   ]
  },
  {
   "cell_type": "code",
   "execution_count": 19,
   "id": "7390db79-3d8e-4bb4-8376-9cde52122e02",
   "metadata": {},
   "outputs": [
    {
     "data": {
      "text/plain": [
       "<matplotlib.lines.Line2D at 0x7f462d5e7970>"
      ]
     },
     "execution_count": 19,
     "metadata": {},
     "output_type": "execute_result"
    },
    {
     "data": {
      "image/png": "[encoded data removed]",
      "text/plain": [
       "<Figure size 1440x720 with 1 Axes>"
      ]
     },
     "metadata": {},
     "output_type": "display_data"
    }
   ],
   "source": [
    "# Plot p(x).\n",
    "fig, ax = plt.subplots()\n",
    "ax.plot(x, p(x))\n",
    "ax.axhline(y=0, color='k')\n",
    "ax.axvline(x=0, color='k')"
   ]
  },
  {
   "cell_type": "code",
   "execution_count": 20,
   "id": "2b600e2d-f5b5-4dd8-b5f2-d5997de57fc1",
   "metadata": {},
   "outputs": [],
   "source": [
    "# Solve with the formula.\n",
    "def solve(p):\n",
    "    a, b, c = p.a, p.b, p.c\n",
    "    x1 = (-b - (b**2 - 4 * a * c)**0.5) / (2 * a)\n",
    "    x2 = (-b + (b**2 - 4 * a * c)**0.5) / (2 * a)\n",
    "    return [x1, x2]"
   ]
  },
  {
   "cell_type": "code",
   "execution_count": 21,
   "id": "91771015-e8bc-4139-8ed9-ffe4d22332a4",
   "metadata": {},
   "outputs": [
    {
     "data": {
      "text/plain": [
       "[2.0, 3.0]"
      ]
     },
     "execution_count": 21,
     "metadata": {},
     "output_type": "execute_result"
    }
   ],
   "source": [
    "solve(p)"
   ]
  },
  {
   "cell_type": "markdown",
   "id": "5d5de1d2-7a82-4ddc-b925-48ef6e8c4929",
   "metadata": {},
   "source": [
    "### Not hitting x"
   ]
  },
  {
   "cell_type": "markdown",
   "id": "7fe5e940-8f0c-4215-ba36-1e09a2a35bde",
   "metadata": {},
   "source": [
    "$ax^2+bx+c=(1.0)x^2+(0.0)x+(1.0)=x^2+1$"
   ]
  },
  {
   "cell_type": "code",
   "execution_count": 23,
   "id": "915bf354-53c7-448c-a511-e166a78f5179",
   "metadata": {},
   "outputs": [],
   "source": [
    "p = quadratic(a=1.0, b=0.0, c=1.0)"
   ]
  },
  {
   "cell_type": "code",
   "execution_count": 24,
   "id": "6dfb952e-86dc-4c92-8a9a-479a6d45a01d",
   "metadata": {},
   "outputs": [],
   "source": [
    "x = np.linspace(-2.0, 2.0, 1000)"
   ]
  },
  {
   "cell_type": "code",
   "execution_count": 25,
   "id": "21ade73a-7ad2-4975-9bc8-4c7aaa7654cb",
   "metadata": {},
   "outputs": [
    {
     "data": {
      "text/plain": [
       "<matplotlib.lines.Line2D at 0x7f4624c07880>"
      ]
     },
     "execution_count": 25,
     "metadata": {},
     "output_type": "execute_result"
    },
    {
     "data": {
      "image/png": "[encoded data removed]",
      "text/plain": [
       "<Figure size 1440x720 with 1 Axes>"
      ]
     },
     "metadata": {},
     "output_type": "display_data"
    }
   ],
   "source": [
    "fig, ax = plt.subplots()\n",
    "ax.plot(x, p(x))\n",
    "ax.axhline(y=0, color='k')\n",
    "ax.axvline(x=0, color='k')"
   ]
  },
  {
   "cell_type": "code",
   "execution_count": 26,
   "id": "97f425b2-07eb-4e75-a2dc-d0f13f2147c4",
   "metadata": {},
   "outputs": [
    {
     "data": {
      "text/plain": [
       "((-6.123233995736766e-17-1j), (6.123233995736766e-17+1j))"
      ]
     },
     "execution_count": 26,
     "metadata": {},
     "output_type": "execute_result"
    }
   ],
   "source": [
    "x1, x2 = solve(p)\n",
    "x1, x2"
   ]
  },
  {
   "cell_type": "code",
   "execution_count": 27,
   "id": "a752d12b-1b1c-41a3-b1f1-10c2aa8ba18b",
   "metadata": {},
   "outputs": [
    {
     "data": {
      "text/plain": [
       "'x1 = -0.0-1.0j, x2 = 0.0+1.0j'"
      ]
     },
     "execution_count": 27,
     "metadata": {},
     "output_type": "execute_result"
    }
   ],
   "source": [
    "f\"x1 = {x1:.1f}, x2 = {x2:.1f}\""
   ]
  },
  {
   "cell_type": "code",
   "execution_count": 28,
   "id": "f7228b97-bedb-4884-8213-cc279edd8c25",
   "metadata": {},
   "outputs": [],
   "source": [
    "p = quadratic(a=2.0, b=5.0, c=10.0)"
   ]
  },
  {
   "cell_type": "code",
   "execution_count": 29,
   "id": "a0a3cc9b-b9ac-488d-85a9-74a1d2b74047",
   "metadata": {},
   "outputs": [],
   "source": [
    "x = np.linspace(-4.5, 2.0, 1000)"
   ]
  },
  {
   "cell_type": "code",
   "execution_count": 30,
   "id": "0a10a0cf-81bd-47e4-8377-ccb7a86ac415",
   "metadata": {},
   "outputs": [
    {
     "data": {
      "text/plain": [
       "<matplotlib.lines.Line2D at 0x7f46255307f0>"
      ]
     },
     "execution_count": 30,
     "metadata": {},
     "output_type": "execute_result"
    },
    {
     "data": {
      "image/png": "[encoded data removed]",
      "text/plain": [
       "<Figure size 1440x720 with 1 Axes>"
      ]
     },
     "metadata": {},
     "output_type": "display_data"
    }
   ],
   "source": [
    "fig, ax = plt.subplots()\n",
    "ax.plot(x, p(x))\n",
    "ax.axhline(y=0, color='k')\n",
    "ax.axvline(x=0, color='k')"
   ]
  },
  {
   "cell_type": "code",
   "execution_count": 31,
   "id": "005bb2ec-b83e-4794-b4cf-4af90a0c5458",
   "metadata": {},
   "outputs": [
    {
     "data": {
      "text/plain": [
       "((-1.2500000000000002-1.8540496217739157j),\n",
       " (-1.2499999999999998+1.8540496217739157j))"
      ]
     },
     "execution_count": 31,
     "metadata": {},
     "output_type": "execute_result"
    }
   ],
   "source": [
    "x1, x2 = solve(p)\n",
    "x1, x2"
   ]
  },
  {
   "cell_type": "code",
   "execution_count": 32,
   "id": "734115b9-c5b5-495a-8fe4-14cf17ac9518",
   "metadata": {},
   "outputs": [
    {
     "data": {
      "text/plain": [
       "'x1 = -1.3-1.9j, x2 = -1.2+1.9j'"
      ]
     },
     "execution_count": 32,
     "metadata": {},
     "output_type": "execute_result"
    }
   ],
   "source": [
    "f\"x1 = {x1:.1f}, x2 = {x2:.1f}\""
   ]
  },
  {
   "cell_type": "markdown",
   "id": "4d855923",
   "metadata": {},
   "source": [
    "***\n",
    "## The Deutsch-Jozsa algorithm\n",
    "\n",
    "<a href=\"https://akyrillidis.github.io/notes/quant_post_8\">Literature reference</a>"
   ]
  },
  {
   "cell_type": "markdown",
   "id": "63a73608-9b09-4544-950d-d2d1c2d9c5fc",
   "metadata": {},
   "source": [
    "The Deutsch-Jozsa algorithm demonstrates the significance of allowing quantum amplitudes to take both positive and negative values, as opposed to classical probabilities that are always non-negative. Proposed by David Deutsch and Richard Jozsa in 1992, the Deutsch-Jozsa Algorithm was one of the first quantum algorithms that showed that quantum computation could demonstrate an exponential speed-up over a deterministic classical algorithm. The Deutsch-Jozsa Algorithm was the inspiration for Simon’s and Shor’s Algorithm"
   ]
  },
  {
   "cell_type": "markdown",
   "id": "0abe8b94",
   "metadata": {},
   "source": [
    "### The problem setting"
   ]
  },
  {
   "cell_type": "markdown",
   "id": "a6a34755",
   "metadata": {},
   "source": [
    "Let us consider the following problem: There is a univariate function $f$ , defined over the binary alphabet $0,1$, with output range in the same alphabet $0,1$. I.e., $f:0,1⟶0,1$. \n",
    "With a bit of inspection, and making no assumptions about $f$, there are four possible configurations for the function $f$:"
   ]
  },
  {
   "cell_type": "markdown",
   "id": "a215058c",
   "metadata": {},
   "source": [
    "With a bit of inspection, and making no assumptions about $f$, there are four possible configurations for the function $f$:"
   ]
  },
  {
   "cell_type": "markdown",
   "id": "3298f8a0",
   "metadata": {},
   "source": [
    " - Both inputs $0,1$ are mapped to the output $0:f(0)=f(1)=0$."
   ]
  },
  {
   "cell_type": "markdown",
   "id": "2f3d3762",
   "metadata": {},
   "source": [
    " - Both inputs $0,1$ are mapped to the output $1:f(0)=f(1)=1$."
   ]
  },
  {
   "cell_type": "markdown",
   "id": "c4c62b21",
   "metadata": {},
   "source": [
    " - Inputs pass through $f$ unchanged: $f(0)=0$ and $f(1)=1$."
   ]
  },
  {
   "cell_type": "markdown",
   "id": "c62593a5",
   "metadata": {},
   "source": [
    " - Inputs are exchanged after passing through $f:f(0)=1$ and $f(1)=0$."
   ]
  },
  {
   "cell_type": "markdown",
   "id": "67ebfdc7",
   "metadata": {},
   "source": [
    "We will call the first two cases as $f$ being “constant” (i.e., whatever input we insert, the function behaves the same way), and the last two cases as $f$ being balanced.\n",
    "\n",
    "The question is the following: Given a function $f:0,1⟶0,1$ and without knowing anything more than that, determine whether $f$ is a constant or a balanced function with the minimum number of function evaluations."
   ]
  },
  {
   "cell_type": "markdown",
   "id": "79ac54e0-ca53-43cf-9344-6d7e4e1a72ea",
   "metadata": {},
   "source": [
    "#### Quantum Solution"
   ]
  },
  {
   "cell_type": "code",
   "execution_count": 1,
   "id": "d24213f0-6b4a-4a86-8104-f4a9a285afeb",
   "metadata": {},
   "outputs": [
    {
     "data": {
      "text/html": [
       "<img src=\"https://qiskit.org/textbook/ch-algorithms/images/deutsch_steps.png\" width=\"700\" height=\"500\"/>"
      ],
      "text/plain": [
       "<IPython.core.display.Image object>"
      ]
     },
     "execution_count": 1,
     "metadata": {},
     "output_type": "execute_result"
    }
   ],
   "source": [
    "from IPython.display import Image\n",
    "from IPython.core.display import HTML \n",
    "Image(url= \"https://qiskit.org/textbook/ch-algorithms/images/deutsch_steps.png\", height = 500, width = 700)"
   ]
  },
  {
   "cell_type": "markdown",
   "id": "775ad730",
   "metadata": {},
   "source": [
    "### What a classic algorithm would do?"
   ]
  },
  {
   "cell_type": "markdown",
   "id": "fbf60a03",
   "metadata": {},
   "source": [
    "In the classical sense, an algorithm that solves this problem would implement an if-then-else statement:"
   ]
  },
  {
   "cell_type": "raw",
   "id": "e8756e54",
   "metadata": {},
   "source": [
    "if f(0) = 0:\n",
    "\tif f(1) = 0:\n",
    "\t\tprint(\"Constant\")\n",
    "\telse: \n",
    "\t\tprint(\"Balanced\")\n",
    "else:\n",
    "\tif f(1) = 0:\n",
    "\t\tprint(\"Balanced\")\n",
    "\telse: \n",
    "\t\tprint(\"Constant\")"
   ]
  },
  {
   "cell_type": "markdown",
   "id": "785a38f3",
   "metadata": {},
   "source": [
    "as you can see, we require two function evaluations to figure out the answer. In the next sections, we will see how we exploit superposition of states in quantum machines to solve the problem more efficiently."
   ]
  },
  {
   "cell_type": "markdown",
   "id": "844fdb93-31ab-4f6d-b682-c3a813c2b5df",
   "metadata": {},
   "source": [
    "## Balanced or Constant Functions"
   ]
  },
  {
   "cell_type": "code",
   "execution_count": 33,
   "id": "311b60da-6328-47f7-a0dd-ac4ee6e76cc3",
   "metadata": {},
   "outputs": [],
   "source": [
    "# Random selections.\n",
    "import random\n",
    "\n",
    "# Permutations and combinations.\n",
    "import itertools"
   ]
  },
  {
   "cell_type": "markdown",
   "id": "0fcdb3d9-9c95-4cf3-a839-56e6d5c4a1ec",
   "metadata": {},
   "source": [
    "### One bit inputs"
   ]
  },
  {
   "cell_type": "markdown",
   "id": "d87f810e-3b76-4899-9469-c17d3f0a2e6b",
   "metadata": {},
   "source": [
    "x  is a bit.\n",
    "It's possible values are 0 and 1"
   ]
  },
  {
   "cell_type": "code",
   "execution_count": 34,
   "id": "b36b3810-900e-41bb-a4d6-b8c2e4a2f7ac",
   "metadata": {},
   "outputs": [],
   "source": [
    "# Constant function.\n",
    "def f_a(x):\n",
    "    return 1"
   ]
  },
  {
   "cell_type": "code",
   "execution_count": 35,
   "id": "97bbe213-1d81-4cc3-b9eb-4d46251dd253",
   "metadata": {},
   "outputs": [
    {
     "data": {
      "text/plain": [
       "1"
      ]
     },
     "execution_count": 35,
     "metadata": {},
     "output_type": "execute_result"
    }
   ],
   "source": [
    "f_a(0)"
   ]
  },
  {
   "cell_type": "code",
   "execution_count": 36,
   "id": "d5828003-268b-4537-8276-cabeba66faba",
   "metadata": {},
   "outputs": [
    {
     "data": {
      "text/plain": [
       "1"
      ]
     },
     "execution_count": 36,
     "metadata": {},
     "output_type": "execute_result"
    }
   ],
   "source": [
    "f_a(1)"
   ]
  },
  {
   "cell_type": "code",
   "execution_count": 37,
   "id": "c9f4d2cf-548d-4188-a1c9-9b62d342714f",
   "metadata": {},
   "outputs": [],
   "source": [
    "# Constant function.\n",
    "def f_b(x):\n",
    "    return 0"
   ]
  },
  {
   "cell_type": "code",
   "execution_count": 38,
   "id": "5d54c6bc-260f-4f90-9cc4-75c4cb7d9745",
   "metadata": {},
   "outputs": [
    {
     "data": {
      "text/plain": [
       "0"
      ]
     },
     "execution_count": 38,
     "metadata": {},
     "output_type": "execute_result"
    }
   ],
   "source": [
    "f_b(0)"
   ]
  },
  {
   "cell_type": "code",
   "execution_count": 39,
   "id": "9ae5608e-b111-48bb-b571-a7845f3f2dfa",
   "metadata": {},
   "outputs": [
    {
     "data": {
      "text/plain": [
       "0"
      ]
     },
     "execution_count": 39,
     "metadata": {},
     "output_type": "execute_result"
    }
   ],
   "source": [
    "f_b(1)"
   ]
  },
  {
   "cell_type": "code",
   "execution_count": 40,
   "id": "0a92efeb-ac5e-4cae-bae1-49dbeaedf214",
   "metadata": {},
   "outputs": [],
   "source": [
    "# Balanced function.\n",
    "def f_c(x):\n",
    "    return x"
   ]
  },
  {
   "cell_type": "code",
   "execution_count": 41,
   "id": "1e13749b-dc71-4b4d-9acd-1f3d023f2e1b",
   "metadata": {},
   "outputs": [
    {
     "data": {
      "text/plain": [
       "0"
      ]
     },
     "execution_count": 41,
     "metadata": {},
     "output_type": "execute_result"
    }
   ],
   "source": [
    "f_c(0)"
   ]
  },
  {
   "cell_type": "code",
   "execution_count": 42,
   "id": "152d373e-f5bf-45a6-a900-94a5fdb24579",
   "metadata": {},
   "outputs": [
    {
     "data": {
      "text/plain": [
       "1"
      ]
     },
     "execution_count": 42,
     "metadata": {},
     "output_type": "execute_result"
    }
   ],
   "source": [
    "f_c(1)"
   ]
  },
  {
   "cell_type": "code",
   "execution_count": 43,
   "id": "a2591ebe-e0dd-4fd5-a4f0-4155988dff73",
   "metadata": {},
   "outputs": [],
   "source": [
    "# Balanced function.\n",
    "def f_d(x):\n",
    "    return ((x + 1) % 2)"
   ]
  },
  {
   "cell_type": "code",
   "execution_count": 44,
   "id": "ac0a646a-4862-4bb7-a9ba-c2d9a7b0362c",
   "metadata": {},
   "outputs": [
    {
     "data": {
      "text/plain": [
       "1"
      ]
     },
     "execution_count": 44,
     "metadata": {},
     "output_type": "execute_result"
    }
   ],
   "source": [
    "f_d(0)\n"
   ]
  },
  {
   "cell_type": "code",
   "execution_count": 45,
   "id": "31084b06-4b40-4d44-b881-4459db8ed666",
   "metadata": {},
   "outputs": [
    {
     "data": {
      "text/plain": [
       "0"
      ]
     },
     "execution_count": 45,
     "metadata": {},
     "output_type": "execute_result"
    }
   ],
   "source": [
    "f_d(1)"
   ]
  },
  {
   "cell_type": "markdown",
   "id": "ec1ccf2e-ab74-4d4c-beb6-838727ca6b5b",
   "metadata": {},
   "source": [
    "### Pick one of the functions at random\n"
   ]
  },
  {
   "cell_type": "code",
   "execution_count": null,
   "id": "400e6481-62e3-4fea-8bfa-54f5e98db636",
   "metadata": {},
   "outputs": [],
   "source": [
    "# Put the four functions in a list.\n",
    "funcs = [f_a, f_b, f_c, f_d]"
   ]
  },
  {
   "cell_type": "code",
   "execution_count": null,
   "id": "d22699de-c562-4155-b689-b05f11270eda",
   "metadata": {},
   "outputs": [],
   "source": [
    "# Select a function from the list at random.\n",
    "random.choice(funcs)"
   ]
  },
  {
   "cell_type": "code",
   "execution_count": null,
   "id": "ebf83390-cc5d-404a-b841-f00befcd9661",
   "metadata": {},
   "outputs": [],
   "source": [
    "f = random.choice(funcs)"
   ]
  },
  {
   "cell_type": "markdown",
   "id": "30e8e271-ec3a-4565-973a-d1b694b16b3d",
   "metadata": {},
   "source": [
    "### Test for balanced or constant"
   ]
  },
  {
   "cell_type": "code",
   "execution_count": null,
   "id": "f6a2325a-d893-4444-931a-87395940f5bf",
   "metadata": {},
   "outputs": [],
   "source": [
    "f(0)"
   ]
  },
  {
   "cell_type": "code",
   "execution_count": null,
   "id": "3ae26a42-2831-4578-b9da-c995240f0698",
   "metadata": {},
   "outputs": [],
   "source": [
    "f(1)"
   ]
  },
  {
   "cell_type": "code",
   "execution_count": null,
   "id": "f78d7e18-9550-402a-be60-4dbcad2c20ec",
   "metadata": {},
   "outputs": [],
   "source": [
    "We had to check 2 inputs to determine whether the function was balanced or constant."
   ]
  },
  {
   "cell_type": "markdown",
   "id": "a57470c7-204c-41b5-b7c9-a9b69b2e2dad",
   "metadata": {},
   "source": [
    "### Two bits"
   ]
  },
  {
   "cell_type": "markdown",
   "id": "b831d6b2-081d-42aa-8c09-c300da250a91",
   "metadata": {},
   "source": [
    " x1| x2| f | f | f | f | f | f | f | f | f | f | f | f | f | f | f | f \n",
    "---|---|---|---|---|---|---|---|---|---|---|---|---|---|---|---|---|---\n",
    " 0 | 0 | 0 | 0 | 0 | 0 | 0 | 0 | 0 | 0 | 1 | 1 | 1 | 1 | 1 | 1 | 1 | 1 \n",
    " 0 | 1 | 0 | 0 | 0 | 0 | 1 | 1 | 1 | 1 | 0 | 0 | 0 | 0 | 1 | 1 | 1 | 1 \n",
    " 1 | 0 | 0 | 0 | 1 | 1 | 0 | 0 | 1 | 1 | 0 | 0 | 1 | 1 | 0 | 0 | 1 | 1 \n",
    " 1 | 1 | 0 | 1 | 0 | 1 | 0 | 1 | 0 | 1 | 0 | 1 | 0 | 1 | 0 | 1 | 0 | 1 "
   ]
  },
  {
   "cell_type": "code",
   "execution_count": 50,
   "id": "21af768c-32df-43c5-b574-d694ca8ce1ce",
   "metadata": {},
   "outputs": [],
   "source": [
    "# Number of input bits.\n",
    "n = 2"
   ]
  },
  {
   "cell_type": "code",
   "execution_count": 51,
   "id": "30e19f57-4664-4514-86e9-c7d734ef8759",
   "metadata": {},
   "outputs": [
    {
     "data": {
      "text/plain": [
       "[0, 0, 0, 0]"
      ]
     },
     "execution_count": 51,
     "metadata": {},
     "output_type": "execute_result"
    }
   ],
   "source": [
    "# The zeros constant function.\n",
    "[0] * 2**n"
   ]
  },
  {
   "cell_type": "code",
   "execution_count": 52,
   "id": "703fede8-e0ee-462e-9051-db71bbf234ff",
   "metadata": {},
   "outputs": [
    {
     "data": {
      "text/plain": [
       "[1, 1, 1, 1]"
      ]
     },
     "execution_count": 52,
     "metadata": {},
     "output_type": "execute_result"
    }
   ],
   "source": [
    "# The ones constant function.\n",
    "[1] * 2**n"
   ]
  },
  {
   "cell_type": "code",
   "execution_count": 53,
   "id": "36c96feb-8c95-4017-96ab-9e1bd0f72265",
   "metadata": {},
   "outputs": [
    {
     "data": {
      "text/plain": [
       "[[1, 1, 0, 0],\n",
       " [1, 0, 1, 0],\n",
       " [1, 0, 0, 1],\n",
       " [0, 1, 1, 0],\n",
       " [0, 1, 0, 1],\n",
       " [0, 0, 1, 1]]"
      ]
     },
     "execution_count": 53,
     "metadata": {},
     "output_type": "execute_result"
    }
   ],
   "source": [
    "# Generate the balanced functions.\n",
    "# Adapted from https://stackoverflow.com/a/43817007\n",
    "def balanced_functions(noinputbits):\n",
    "    # The length of the list is 2 to power of noinputbits.\n",
    "    size = 2**noinputbits\n",
    "    # The nubmer of ones is half the length of that list.\n",
    "    count = size // 2\n",
    "    # Generate all positions for 1's.\n",
    "    for positions in itertools.combinations(range(size), count):\n",
    "        # Create a list of zeros.\n",
    "        p = [0] * size\n",
    "        # Set positions to 1's.\n",
    "        for i in positions:\n",
    "            p[i] = 1\n",
    "        # Generate the list.\n",
    "        yield p\n",
    "\n",
    "list(balanced_functions(2))"
   ]
  },
  {
   "cell_type": "code",
   "execution_count": 54,
   "id": "34ea6d18-a2a4-4f50-bb22-9116758ca85a",
   "metadata": {},
   "outputs": [],
   "source": [
    "# Generate all the constant and balanced functions.\n",
    "def generate_functions(n):\n",
    "    return list(balanced_functions(n)) + [[0] * 2**n, [1] * 2**n]"
   ]
  },
  {
   "cell_type": "code",
   "execution_count": 55,
   "id": "bde3ccb2-722e-464f-b4e3-b28c3ebc53a8",
   "metadata": {},
   "outputs": [
    {
     "data": {
      "text/plain": [
       "[[1, 1, 0, 0],\n",
       " [1, 0, 1, 0],\n",
       " [1, 0, 0, 1],\n",
       " [0, 1, 1, 0],\n",
       " [0, 1, 0, 1],\n",
       " [0, 0, 1, 1],\n",
       " [0, 0, 0, 0],\n",
       " [1, 1, 1, 1]]"
      ]
     },
     "execution_count": 55,
     "metadata": {},
     "output_type": "execute_result"
    }
   ],
   "source": [
    "# Generate all functions.\n",
    "generate_functions(n)"
   ]
  },
  {
   "cell_type": "code",
   "execution_count": 56,
   "id": "25335229-8a3f-4806-8598-38c8216c1cff",
   "metadata": {},
   "outputs": [],
   "source": [
    "def randomf(n):\n",
    "    # Get all balanced and constant functions as lists.\n",
    "    funcs = generate_functions(n)\n",
    "    # Return a random function as a list.\n",
    "    return random.choice(funcs)"
   ]
  },
  {
   "cell_type": "code",
   "execution_count": 57,
   "id": "068bee0c-0bfd-4e80-89c5-6ac8e5c1dfc9",
   "metadata": {},
   "outputs": [],
   "source": [
    "# Call randomf for two input bits.\n",
    "f = randomf(2)"
   ]
  },
  {
   "cell_type": "code",
   "execution_count": 58,
   "id": "5238c434-192b-47fb-b3a7-c390252bc936",
   "metadata": {},
   "outputs": [
    {
     "data": {
      "text/plain": [
       "[1, 1, 1, 1]"
      ]
     },
     "execution_count": 58,
     "metadata": {},
     "output_type": "execute_result"
    }
   ],
   "source": [
    "# It's just a list for now.\n",
    "f\n"
   ]
  },
  {
   "cell_type": "code",
   "execution_count": 59,
   "id": "d3b7cb12-36d2-48b8-9f46-6343db4c10e8",
   "metadata": {},
   "outputs": [],
   "source": [
    "# Let's make it a function.\n",
    "def randomf(n):\n",
    "    # Get all balanced and constant functions as lists.\n",
    "    funcs = generate_functions(n)\n",
    "    # Pick one at random.\n",
    "    retvals = random.choice(funcs)\n",
    "    # Create a function from the list.\n",
    "    def f(*x):\n",
    "        # Reverse the bits.\n",
    "        x = x[::-1]\n",
    "        # Running total for position in list for output bit.\n",
    "        retpos = 0\n",
    "        # Loop through the elements in x (reversed).\n",
    "        for i in range(len(x)):\n",
    "            # Multiply i pos of x by 2^i.\n",
    "            retpos = retpos + (x[i] * 2**i)\n",
    "        # List position.\n",
    "        return retvals[retpos]\n",
    "    # Function returns a function.\n",
    "    return f"
   ]
  },
  {
   "cell_type": "code",
   "execution_count": 60,
   "id": "539991d1-5d8c-4ff3-a0c9-136857eab14b",
   "metadata": {},
   "outputs": [
    {
     "data": {
      "text/plain": [
       "<function __main__.randomf.<locals>.f(*x)>"
      ]
     },
     "execution_count": 60,
     "metadata": {},
     "output_type": "execute_result"
    }
   ],
   "source": [
    "# Get a random function that takes two bits as input.\n",
    "randomf(2)"
   ]
  },
  {
   "cell_type": "code",
   "execution_count": 61,
   "id": "c9e1c972-fc04-4dcc-b1a2-696f0bd37d95",
   "metadata": {},
   "outputs": [],
   "source": [
    "# Get a random function that takes two bits as input.\n",
    "f = randomf(2)"
   ]
  },
  {
   "cell_type": "code",
   "execution_count": 62,
   "id": "21d413f4-cd4f-4481-b1c3-6500884f8fc4",
   "metadata": {},
   "outputs": [
    {
     "data": {
      "text/plain": [
       "1"
      ]
     },
     "execution_count": 62,
     "metadata": {},
     "output_type": "execute_result"
    }
   ],
   "source": [
    "# Sample calls.\n",
    "f(1, 1)"
   ]
  },
  {
   "cell_type": "code",
   "execution_count": 63,
   "id": "61bbe40f-a3af-4df7-b565-c2e42bb7da17",
   "metadata": {},
   "outputs": [
    {
     "data": {
      "text/plain": [
       "1"
      ]
     },
     "execution_count": 63,
     "metadata": {},
     "output_type": "execute_result"
    }
   ],
   "source": [
    "# Sample calls.\n",
    "f(0, 1)"
   ]
  },
  {
   "cell_type": "markdown",
   "id": "e8e6a294-f993-4d4e-b456-cb8112859528",
   "metadata": {},
   "source": [
    "### Classical Algorithm"
   ]
  },
  {
   "cell_type": "code",
   "execution_count": 64,
   "id": "a4c837f4-d374-415b-b011-337209879175",
   "metadata": {},
   "outputs": [],
   "source": [
    "# Number of input bits.\n",
    "n = 2"
   ]
  },
  {
   "cell_type": "code",
   "execution_count": 65,
   "id": "82bc6964-f3a7-45f1-ba62-422dcfe644e0",
   "metadata": {},
   "outputs": [],
   "source": [
    "# Generate a random constant or balanced function\n",
    "# with n in put bits.\n",
    "f = randomf(n)"
   ]
  },
  {
   "cell_type": "code",
   "execution_count": 66,
   "id": "1f8ff186-49ba-4625-9e71-676b0f849fe6",
   "metadata": {},
   "outputs": [
    {
     "data": {
      "text/plain": [
       "[(0, 0), (0, 1), (1, 0), (1, 1)]"
      ]
     },
     "execution_count": 66,
     "metadata": {},
     "output_type": "execute_result"
    }
   ],
   "source": [
    "# Adapted from: https://stackoverflow.com/a/35313967\n",
    "list(itertools.product(*[(0, 1)] * n))"
   ]
  },
  {
   "cell_type": "code",
   "execution_count": 67,
   "id": "010db5d3-fae0-48a5-a732-a9655bb25b3c",
   "metadata": {},
   "outputs": [],
   "source": [
    "def balanced_or_constant(f, n):\n",
    "    # Presume f is constant.\n",
    "    constant = True\n",
    "    # Last returned value.\n",
    "    last = None\n",
    "    # Keep track of number of iterations.\n",
    "    i = 0\n",
    "    # Loop through all possible inputs.\n",
    "    for inputs in itertools.product(*[(0, 1)] * n):\n",
    "        # Try this input on f.\n",
    "        current = f(*inputs)\n",
    "        # Print a debug message.\n",
    "        print(f\"Trying: {inputs}  Return: {current}  Last: {last}\")\n",
    "        # Compare last to current.\n",
    "        if last is not None and current != last:\n",
    "            # Tell the user f is balanced.\n",
    "            constant = False\n",
    "            break\n",
    "        last = current\n",
    "        # Increment the iteration count.\n",
    "        i = i + 1\n",
    "        # Have we performed 2**(n-1) + 1 iterations.\n",
    "        if i > 2**(n-1):\n",
    "            break\n",
    "    if constant:\n",
    "        print(\"Constant\")\n",
    "    else:\n",
    "        print(\"Balanced\")"
   ]
  },
  {
   "cell_type": "code",
   "execution_count": 68,
   "id": "99bcdc5b-efe0-4986-8918-6026cc43d7e9",
   "metadata": {},
   "outputs": [
    {
     "name": "stdout",
     "output_type": "stream",
     "text": [
      "Trying: (0, 0)  Return: 1  Last: None\n",
      "Trying: (0, 1)  Return: 0  Last: 1\n",
      "Balanced\n"
     ]
    }
   ],
   "source": [
    "balanced_or_constant(f, n)"
   ]
  },
  {
   "cell_type": "markdown",
   "id": "3fb7f631-405e-4f0a-ae12-2b0c75615bbb",
   "metadata": {},
   "source": [
    "### More than two bits"
   ]
  },
  {
   "cell_type": "code",
   "execution_count": 69,
   "id": "cc3efdcf-6019-473f-b4d8-bad15b141993",
   "metadata": {},
   "outputs": [],
   "source": [
    "# Five input bits.\n",
    "n = 4"
   ]
  },
  {
   "cell_type": "code",
   "execution_count": 70,
   "id": "0ee636cc-05d9-439c-9c1a-c6b9d644e909",
   "metadata": {},
   "outputs": [],
   "source": [
    "# Generate random function.\n",
    "f = randomf(n)"
   ]
  },
  {
   "cell_type": "code",
   "execution_count": 71,
   "id": "27b77fb2-245c-463f-b00e-f0b4b7c48eef",
   "metadata": {},
   "outputs": [
    {
     "name": "stdout",
     "output_type": "stream",
     "text": [
      "Trying: (0, 0, 0, 0)  Return: 1  Last: None\n",
      "Trying: (0, 0, 0, 1)  Return: 0  Last: 1\n",
      "Balanced\n"
     ]
    }
   ],
   "source": [
    "# Test if balanced.\n",
    "balanced_or_constant(f, n)"
   ]
  },
  {
   "cell_type": "markdown",
   "id": "990db8f8",
   "metadata": {},
   "source": [
    "***\n",
    "## Qiskit\n"
   ]
  },
  {
   "cell_type": "code",
   "execution_count": 2,
   "id": "06ebbdd1",
   "metadata": {},
   "outputs": [],
   "source": [
    "import qiskit"
   ]
  },
  {
   "cell_type": "code",
   "execution_count": 3,
   "id": "381af649",
   "metadata": {},
   "outputs": [],
   "source": [
    "import qiskit.providers.aer as aer"
   ]
  },
  {
   "cell_type": "code",
   "execution_count": 4,
   "id": "b66189d5",
   "metadata": {},
   "outputs": [],
   "source": [
    "import matplotlib.pyplot as plt"
   ]
  },
  {
   "cell_type": "code",
   "execution_count": 4,
   "id": "693a4709",
   "metadata": {},
   "outputs": [],
   "source": [
    "plt.style.use('ggplot')"
   ]
  },
  {
   "cell_type": "markdown",
   "id": "d6b47876",
   "metadata": {},
   "source": [
    "### Preliminaries\n",
    "***"
   ]
  },
  {
   "cell_type": "markdown",
   "id": "32845a27",
   "metadata": {},
   "source": [
    "$|0 \\rangle = \\begin{bmatrix} 1 \\\\ 0 \\end{bmatrix}$\n",
    "\n",
    "$|1 \\rangle = \\begin{bmatrix} 0 \\\\ 1 \\end{bmatrix}$\n",
    "\n",
    "$|\\psi \\rangle = \\begin{bmatrix} \\alpha \\\\ \\beta \\end{bmatrix}$\n",
    "\n",
    "$|\\alpha = a + bi \\qquad \\beta = c + di \\qquad a,b,c,d \\in \\mathbb{R}$\n",
    "\n",
    "$ \\alpha^2 + \\beta^2 = 1$"
   ]
  },
  {
   "cell_type": "markdown",
   "id": "bdb68b35",
   "metadata": {},
   "source": [
    "<br>\n",
    "\n",
    "### Gates\n",
    "\n",
    "***\n",
    "\n",
    "$ H = \\begin{bmatrix} \\frac{1}{\\sqrt{2}} & \\frac{1}{\\sqrt{2}} \\\\ \\frac{1}{\\sqrt{2}} & .\\frac{1}{\\sqrt{2}} \\end{bmatrix} = \\frac{1}{\\sqrt{2}} \\begin{bmatrix} 1 & 1 \\\\ 1 & -1 \\end{bmatrix}$\n",
    "\n",
    "$ H | 0 \\rangle = \\frac{1}{\\sqrt{2}} \\begin{bmatrix} 1 & 1 \\\\ 1 & -1 \\end{bmatrix} \\begin{bmatrix} 1 \\\\ 0 \\end{bmatrix} = \\frac{1}{\\sqrt{2}} \\begin{bmatrix} 1 \\\\ 1 \\end{bmatrix} = \\begin{bmatrix}  \\frac{1}{\\sqrt{2}} \\\\ \\frac{1}{\\sqrt{2}} \\end{bmatrix} = |+\\rangle $\n",
    "\n",
    "$ H | 1 \\rangle = \\frac{1}{\\sqrt{2}} \\begin{bmatrix} 1 & 1 \\\\ 1 & -1 \\end{bmatrix} \\begin{bmatrix} 0 \\\\ 1 \\end{bmatrix} = \\frac{1}{\\sqrt{2}} \\begin{bmatrix} 1 \\\\ -1 \\end{bmatrix} = \\begin{bmatrix}  \\frac{1}{\\sqrt{2}} \\\\ -\\frac{1}{\\sqrt{2}} \\end{bmatrix} = |-\\rangle  $\n",
    "\n",
    "$H^* = H^{-1}$\n",
    "\n",
    "$(a+bi)^* = a - bi$\n",
    "\n",
    "$ I = \\begin{bmatrix} 1 & 0 \\\\ 0 & 1 \\end{bmatrix} $"
   ]
  },
  {
   "cell_type": "markdown",
   "id": "cbeb227d",
   "metadata": {},
   "source": [
    "<br>\n",
    "\n",
    "### Measurement\n",
    "***\n",
    "\n",
    "$ |\\psi\\rangle = \\begin{bmatrix} \\alpha \\\\ \\beta \\end{bmatrix} \\Leftrightarrow  \\langle \\psi | = \\begin{bmatrix} \\alpha^* & \\beta^* \\end{bmatrix}$\n",
    "\n",
    "#### Probability of measuring $|0\\rangle$ when in $|+\\rangle$\n",
    "\n",
    " $|\\langle 0 | + \\rangle |^2 = |\\langle 0 || + \\rangle |^2= | \\begin{bmatrix} 1 & 0 \\end{bmatrix} \\begin{bmatrix} \\frac{1}{\\sqrt{2}} \\\\ \\frac{1}{\\sqrt{2}} \\end{bmatrix} |^2 = (1)(\\frac{1}{\\sqrt{2}}) + (0)(\\frac{1}{\\sqrt{2}})|^2 = (\\frac{1}{\\sqrt{2}})^2$\n",
    " \n",
    " $|a+bi| = \\sqrt{(a+bi)(a-bi)} = \\sqrt{a^2+b^2}$"
   ]
  },
  {
   "cell_type": "markdown",
   "id": "45e2fe3a",
   "metadata": {},
   "source": [
    "<br>\n",
    "\n",
    "### Constant Zero Function\n",
    "\n",
    "***"
   ]
  },
  {
   "cell_type": "code",
   "execution_count": 8,
   "id": "31badd4c",
   "metadata": {},
   "outputs": [],
   "source": [
    "circuit = qiskit.QuantumCircuit(2,1)"
   ]
  },
  {
   "cell_type": "code",
   "execution_count": 9,
   "id": "1e04d78e",
   "metadata": {},
   "outputs": [
    {
     "data": {
      "text/plain": [
       "<qiskit.circuit.instructionset.InstructionSet at 0x7fa8791374c0>"
      ]
     },
     "execution_count": 9,
     "metadata": {},
     "output_type": "execute_result"
    }
   ],
   "source": [
    "circuit.initialize([1,0],0)"
   ]
  },
  {
   "cell_type": "code",
   "execution_count": 10,
   "id": "6244b9c1",
   "metadata": {},
   "outputs": [
    {
     "data": {
      "text/plain": [
       "<qiskit.circuit.instructionset.InstructionSet at 0x7fa87d573a60>"
      ]
     },
     "execution_count": 10,
     "metadata": {},
     "output_type": "execute_result"
    }
   ],
   "source": [
    "circuit.initialize([0,1],1)"
   ]
  },
  {
   "cell_type": "code",
   "execution_count": 11,
   "id": "0266f2c4",
   "metadata": {},
   "outputs": [
    {
     "data": {
      "text/plain": [
       "<qiskit.circuit.instructionset.InstructionSet at 0x7fa879137820>"
      ]
     },
     "execution_count": 11,
     "metadata": {},
     "output_type": "execute_result"
    }
   ],
   "source": [
    "circuit.h(0)"
   ]
  },
  {
   "cell_type": "code",
   "execution_count": 12,
   "id": "b2e25b49",
   "metadata": {},
   "outputs": [
    {
     "data": {
      "text/plain": [
       "<qiskit.circuit.instructionset.InstructionSet at 0x7fa8797cd9d0>"
      ]
     },
     "execution_count": 12,
     "metadata": {},
     "output_type": "execute_result"
    }
   ],
   "source": [
    "circuit.h(1)"
   ]
  },
  {
   "cell_type": "code",
   "execution_count": 13,
   "id": "62754dca",
   "metadata": {},
   "outputs": [
    {
     "data": {
      "text/plain": [
       "<qiskit.circuit.instructionset.InstructionSet at 0x7fa879137610>"
      ]
     },
     "execution_count": 13,
     "metadata": {},
     "output_type": "execute_result"
    }
   ],
   "source": [
    "circuit.i(1)"
   ]
  },
  {
   "cell_type": "code",
   "execution_count": 14,
   "id": "044727b6",
   "metadata": {},
   "outputs": [
    {
     "data": {
      "text/plain": [
       "<qiskit.circuit.instructionset.InstructionSet at 0x7fa918586fd0>"
      ]
     },
     "execution_count": 14,
     "metadata": {},
     "output_type": "execute_result"
    }
   ],
   "source": [
    "circuit.h(0)"
   ]
  },
  {
   "cell_type": "code",
   "execution_count": 15,
   "id": "d29a3776",
   "metadata": {},
   "outputs": [
    {
     "data": {
      "text/plain": [
       "<qiskit.circuit.instructionset.InstructionSet at 0x7fa879137790>"
      ]
     },
     "execution_count": 15,
     "metadata": {},
     "output_type": "execute_result"
    }
   ],
   "source": [
    "circuit.measure(0,0)"
   ]
  },
  {
   "cell_type": "code",
   "execution_count": 16,
   "id": "e4a63d80",
   "metadata": {},
   "outputs": [
    {
     "data": {
      "image/png": "[encoded data removed]",
      "text/plain": [
       "<Figure size 589.054x368.424 with 1 Axes>"
      ]
     },
     "execution_count": 16,
     "metadata": {},
     "output_type": "execute_result"
    }
   ],
   "source": [
    "circuit.draw(output='mpl', scale=1.8)"
   ]
  },
  {
   "cell_type": "markdown",
   "id": "732250d7-685a-41db-9bf5-5519185b0bd9",
   "metadata": {},
   "source": [
    "### The Atoms of Computation"
   ]
  },
  {
   "cell_type": "code",
   "execution_count": 1,
   "id": "67ade0ad-1856-4596-8f3b-54477c27c898",
   "metadata": {},
   "outputs": [],
   "source": [
    "from qiskit import QuantumCircuit, assemble, Aer\n",
    "from qiskit.visualization import plot_histogram\n",
    "from random import choice, randint"
   ]
  },
  {
   "cell_type": "code",
   "execution_count": 74,
   "id": "60f634ce-5f40-47d9-8e46-f19c92dc2a06",
   "metadata": {},
   "outputs": [],
   "source": [
    "qc_output = QuantumCircuit(8)"
   ]
  },
  {
   "cell_type": "code",
   "execution_count": 75,
   "id": "e5bf0fd0-2566-4eca-b98c-a2324969a496",
   "metadata": {},
   "outputs": [],
   "source": [
    "qc_output.measure_all()"
   ]
  },
  {
   "cell_type": "code",
   "execution_count": 76,
   "id": "a9ab8f2c-dfb1-4215-be27-60b20d7d5eec",
   "metadata": {},
   "outputs": [
    {
     "data": {
      "text/html": [
       "<pre style=\"word-wrap: normal;white-space: pre;background: #fff0;line-height: 1.1;font-family: &quot;Courier New&quot;,Courier,monospace\">           ░ ┌─┐                     \n",
       "  q_0: |0>─░─┤M├─────────────────────\n",
       "           ░ └╥┘┌─┐                  \n",
       "  q_1: |0>─░──╫─┤M├──────────────────\n",
       "           ░  ║ └╥┘┌─┐               \n",
       "  q_2: |0>─░──╫──╫─┤M├───────────────\n",
       "           ░  ║  ║ └╥┘┌─┐            \n",
       "  q_3: |0>─░──╫──╫──╫─┤M├────────────\n",
       "           ░  ║  ║  ║ └╥┘┌─┐         \n",
       "  q_4: |0>─░──╫──╫──╫──╫─┤M├─────────\n",
       "           ░  ║  ║  ║  ║ └╥┘┌─┐      \n",
       "  q_5: |0>─░──╫──╫──╫──╫──╫─┤M├──────\n",
       "           ░  ║  ║  ║  ║  ║ └╥┘┌─┐   \n",
       "  q_6: |0>─░──╫──╫──╫──╫──╫──╫─┤M├───\n",
       "           ░  ║  ║  ║  ║  ║  ║ └╥┘┌─┐\n",
       "  q_7: |0>─░──╫──╫──╫──╫──╫──╫──╫─┤M├\n",
       "           ░  ║  ║  ║  ║  ║  ║  ║ └╥┘\n",
       "meas: 0 8/════╩══╩══╩══╩══╩══╩══╩══╩═\n",
       "              0  1  2  3  4  5  6  7 </pre>"
      ],
      "text/plain": [
       "           ░ ┌─┐                     \n",
       "  q_0: |0>─░─┤M├─────────────────────\n",
       "           ░ └╥┘┌─┐                  \n",
       "  q_1: |0>─░──╫─┤M├──────────────────\n",
       "           ░  ║ └╥┘┌─┐               \n",
       "  q_2: |0>─░──╫──╫─┤M├───────────────\n",
       "           ░  ║  ║ └╥┘┌─┐            \n",
       "  q_3: |0>─░──╫──╫──╫─┤M├────────────\n",
       "           ░  ║  ║  ║ └╥┘┌─┐         \n",
       "  q_4: |0>─░──╫──╫──╫──╫─┤M├─────────\n",
       "           ░  ║  ║  ║  ║ └╥┘┌─┐      \n",
       "  q_5: |0>─░──╫──╫──╫──╫──╫─┤M├──────\n",
       "           ░  ║  ║  ║  ║  ║ └╥┘┌─┐   \n",
       "  q_6: |0>─░──╫──╫──╫──╫──╫──╫─┤M├───\n",
       "           ░  ║  ║  ║  ║  ║  ║ └╥┘┌─┐\n",
       "  q_7: |0>─░──╫──╫──╫──╫──╫──╫──╫─┤M├\n",
       "           ░  ║  ║  ║  ║  ║  ║  ║ └╥┘\n",
       "meas: 0 8/════╩══╩══╩══╩══╩══╩══╩══╩═\n",
       "              0  1  2  3  4  5  6  7 "
      ]
     },
     "execution_count": 76,
     "metadata": {},
     "output_type": "execute_result"
    }
   ],
   "source": [
    "qc_output.draw(initial_state=True) "
   ]
  },
  {
   "cell_type": "code",
   "execution_count": 77,
   "id": "20f03aa6-39a5-4604-8a9d-8da546549ace",
   "metadata": {},
   "outputs": [
    {
     "data": {
      "image/png": "[encoded data removed]",
      "text/plain": [
       "<Figure size 504x360 with 1 Axes>"
      ]
     },
     "execution_count": 77,
     "metadata": {},
     "output_type": "execute_result"
    }
   ],
   "source": [
    "sim = Aer.get_backend('aer_simulator') \n",
    "result = sim.run(qc_output).result()\n",
    "counts = result.get_counts()\n",
    "plot_histogram(counts)"
   ]
  },
  {
   "cell_type": "code",
   "execution_count": 78,
   "id": "9d9407c0-0ae4-4824-a1c6-f21398a656f7",
   "metadata": {},
   "outputs": [
    {
     "data": {
      "text/html": [
       "<pre style=\"word-wrap: normal;white-space: pre;background: #fff0;line-height: 1.1;font-family: &quot;Courier New&quot;,Courier,monospace\">          \n",
       "q_0: ─────\n",
       "          \n",
       "q_1: ─────\n",
       "          \n",
       "q_2: ─────\n",
       "          \n",
       "q_3: ─────\n",
       "          \n",
       "q_4: ─────\n",
       "          \n",
       "q_5: ─────\n",
       "          \n",
       "q_6: ─────\n",
       "     ┌───┐\n",
       "q_7: ┤ X ├\n",
       "     └───┘</pre>"
      ],
      "text/plain": [
       "          \n",
       "q_0: ─────\n",
       "          \n",
       "q_1: ─────\n",
       "          \n",
       "q_2: ─────\n",
       "          \n",
       "q_3: ─────\n",
       "          \n",
       "q_4: ─────\n",
       "          \n",
       "q_5: ─────\n",
       "          \n",
       "q_6: ─────\n",
       "     ┌───┐\n",
       "q_7: ┤ X ├\n",
       "     └───┘"
      ]
     },
     "execution_count": 78,
     "metadata": {},
     "output_type": "execute_result"
    }
   ],
   "source": [
    "qc_encode = QuantumCircuit(8)\n",
    "qc_encode.x(7)\n",
    "qc_encode.draw()"
   ]
  },
  {
   "cell_type": "code",
   "execution_count": 79,
   "id": "29718654-7d37-4515-8a15-9cdd2f5c84ae",
   "metadata": {},
   "outputs": [
    {
     "data": {
      "text/html": [
       "<pre style=\"word-wrap: normal;white-space: pre;background: #fff0;line-height: 1.1;font-family: &quot;Courier New&quot;,Courier,monospace\">              ░ ┌─┐                     \n",
       "   q_0: ──────░─┤M├─────────────────────\n",
       "              ░ └╥┘┌─┐                  \n",
       "   q_1: ──────░──╫─┤M├──────────────────\n",
       "              ░  ║ └╥┘┌─┐               \n",
       "   q_2: ──────░──╫──╫─┤M├───────────────\n",
       "              ░  ║  ║ └╥┘┌─┐            \n",
       "   q_3: ──────░──╫──╫──╫─┤M├────────────\n",
       "              ░  ║  ║  ║ └╥┘┌─┐         \n",
       "   q_4: ──────░──╫──╫──╫──╫─┤M├─────────\n",
       "              ░  ║  ║  ║  ║ └╥┘┌─┐      \n",
       "   q_5: ──────░──╫──╫──╫──╫──╫─┤M├──────\n",
       "              ░  ║  ║  ║  ║  ║ └╥┘┌─┐   \n",
       "   q_6: ──────░──╫──╫──╫──╫──╫──╫─┤M├───\n",
       "        ┌───┐ ░  ║  ║  ║  ║  ║  ║ └╥┘┌─┐\n",
       "   q_7: ┤ X ├─░──╫──╫──╫──╫──╫──╫──╫─┤M├\n",
       "        └───┘ ░  ║  ║  ║  ║  ║  ║  ║ └╥┘\n",
       "meas: 8/═════════╩══╩══╩══╩══╩══╩══╩══╩═\n",
       "                 0  1  2  3  4  5  6  7 </pre>"
      ],
      "text/plain": [
       "              ░ ┌─┐                     \n",
       "   q_0: ──────░─┤M├─────────────────────\n",
       "              ░ └╥┘┌─┐                  \n",
       "   q_1: ──────░──╫─┤M├──────────────────\n",
       "              ░  ║ └╥┘┌─┐               \n",
       "   q_2: ──────░──╫──╫─┤M├───────────────\n",
       "              ░  ║  ║ └╥┘┌─┐            \n",
       "   q_3: ──────░──╫──╫──╫─┤M├────────────\n",
       "              ░  ║  ║  ║ └╥┘┌─┐         \n",
       "   q_4: ──────░──╫──╫──╫──╫─┤M├─────────\n",
       "              ░  ║  ║  ║  ║ └╥┘┌─┐      \n",
       "   q_5: ──────░──╫──╫──╫──╫──╫─┤M├──────\n",
       "              ░  ║  ║  ║  ║  ║ └╥┘┌─┐   \n",
       "   q_6: ──────░──╫──╫──╫──╫──╫──╫─┤M├───\n",
       "        ┌───┐ ░  ║  ║  ║  ║  ║  ║ └╥┘┌─┐\n",
       "   q_7: ┤ X ├─░──╫──╫──╫──╫──╫──╫──╫─┤M├\n",
       "        └───┘ ░  ║  ║  ║  ║  ║  ║  ║ └╥┘\n",
       "meas: 8/═════════╩══╩══╩══╩══╩══╩══╩══╩═\n",
       "                 0  1  2  3  4  5  6  7 "
      ]
     },
     "execution_count": 79,
     "metadata": {},
     "output_type": "execute_result"
    }
   ],
   "source": [
    "qc_encode.measure_all()\n",
    "qc_encode.draw()"
   ]
  },
  {
   "cell_type": "code",
   "execution_count": 80,
   "id": "454a3224-81ae-43f7-a5eb-a7bf57c84fcf",
   "metadata": {},
   "outputs": [
    {
     "data": {
      "image/png": "[encoded data removed]",
      "text/plain": [
       "<Figure size 504x360 with 1 Axes>"
      ]
     },
     "execution_count": 80,
     "metadata": {},
     "output_type": "execute_result"
    }
   ],
   "source": [
    "sim = Aer.get_backend('aer_simulator') \n",
    "result = sim.run(qc_encode).result()\n",
    "counts = result.get_counts()\n",
    "plot_histogram(counts)"
   ]
  },
  {
   "cell_type": "code",
   "execution_count": 10,
   "id": "52d95907-0332-4878-9134-c3bf19f177e6",
   "metadata": {},
   "outputs": [
    {
     "data": {
      "text/html": [
       "<pre style=\"word-wrap: normal;white-space: pre;background: #fff0;line-height: 1.1;font-family: &quot;Courier New&quot;,Courier,monospace\">          \n",
       "q_0: ─────\n",
       "          \n",
       "q_1: ─────\n",
       "     ┌───┐\n",
       "q_2: ┤ X ├\n",
       "     └───┘\n",
       "q_3: ─────\n",
       "          \n",
       "q_4: ─────\n",
       "          \n",
       "q_5: ─────\n",
       "     ┌───┐\n",
       "q_6: ┤ X ├\n",
       "     └───┘\n",
       "q_7: ─────\n",
       "          </pre>"
      ],
      "text/plain": [
       "          \n",
       "q_0: ─────\n",
       "          \n",
       "q_1: ─────\n",
       "     ┌───┐\n",
       "q_2: ┤ X ├\n",
       "     └───┘\n",
       "q_3: ─────\n",
       "          \n",
       "q_4: ─────\n",
       "          \n",
       "q_5: ─────\n",
       "     ┌───┐\n",
       "q_6: ┤ X ├\n",
       "     └───┘\n",
       "q_7: ─────\n",
       "          "
      ]
     },
     "execution_count": 10,
     "metadata": {},
     "output_type": "execute_result"
    }
   ],
   "source": [
    "qc_encode = QuantumCircuit(8)\n",
    "qc_encode.x(2)\n",
    "qc_encode.x(6)\n",
    "\n",
    "qc_encode.draw()"
   ]
  },
  {
   "cell_type": "code",
   "execution_count": 82,
   "id": "004a42e2-a563-4529-9bef-56b7c00ef754",
   "metadata": {},
   "outputs": [
    {
     "data": {
      "text/html": [
       "<pre style=\"word-wrap: normal;white-space: pre;background: #fff0;line-height: 1.1;font-family: &quot;Courier New&quot;,Courier,monospace\">          \n",
       "q_0: ──■──\n",
       "     ┌─┴─┐\n",
       "q_1: ┤ X ├\n",
       "     └───┘</pre>"
      ],
      "text/plain": [
       "          \n",
       "q_0: ──■──\n",
       "     ┌─┴─┐\n",
       "q_1: ┤ X ├\n",
       "     └───┘"
      ]
     },
     "execution_count": 82,
     "metadata": {},
     "output_type": "execute_result"
    }
   ],
   "source": [
    "qc_cnot = QuantumCircuit(2)\n",
    "qc_cnot.cx(0,1)\n",
    "qc_cnot.draw()"
   ]
  },
  {
   "cell_type": "code",
   "execution_count": 83,
   "id": "b9f929ca-71e6-4e9a-9d32-d773eb9dfeea",
   "metadata": {},
   "outputs": [
    {
     "data": {
      "text/html": [
       "<pre style=\"word-wrap: normal;white-space: pre;background: #fff0;line-height: 1.1;font-family: &quot;Courier New&quot;,Courier,monospace\">     ┌───┐     ┌─┐   \n",
       "q_0: ┤ X ├──■──┤M├───\n",
       "     └───┘┌─┴─┐└╥┘┌─┐\n",
       "q_1: ─────┤ X ├─╫─┤M├\n",
       "          └───┘ ║ └╥┘\n",
       "c: 2/═══════════╩══╩═\n",
       "                0  1 </pre>"
      ],
      "text/plain": [
       "     ┌───┐     ┌─┐   \n",
       "q_0: ┤ X ├──■──┤M├───\n",
       "     └───┘┌─┴─┐└╥┘┌─┐\n",
       "q_1: ─────┤ X ├─╫─┤M├\n",
       "          └───┘ ║ └╥┘\n",
       "c: 2/═══════════╩══╩═\n",
       "                0  1 "
      ]
     },
     "execution_count": 83,
     "metadata": {},
     "output_type": "execute_result"
    }
   ],
   "source": [
    "qc = QuantumCircuit(2,2)\n",
    "qc.x(0)\n",
    "qc.cx(0,1)\n",
    "qc.measure(0,0)\n",
    "qc.measure(1,1)\n",
    "qc.draw()"
   ]
  },
  {
   "cell_type": "code",
   "execution_count": 84,
   "id": "c90aff1e-399d-40f1-9b76-126cc7a4f33b",
   "metadata": {},
   "outputs": [
    {
     "data": {
      "text/html": [
       "<pre style=\"word-wrap: normal;white-space: pre;background: #fff0;line-height: 1.1;font-family: &quot;Courier New&quot;,Courier,monospace\">     ┌───┐ ░            ░       \n",
       "q_0: ┤ X ├─░───■────────░───────\n",
       "     ├───┤ ░   │        ░       \n",
       "q_1: ┤ X ├─░───┼────■───░───────\n",
       "     └───┘ ░ ┌─┴─┐┌─┴─┐ ░ ┌─┐   \n",
       "q_2: ──────░─┤ X ├┤ X ├─░─┤M├───\n",
       "           ░ └───┘└───┘ ░ └╥┘┌─┐\n",
       "q_3: ──────░────────────░──╫─┤M├\n",
       "           ░            ░  ║ └╥┘\n",
       "c: 2/══════════════════════╩══╩═\n",
       "                           0  1 </pre>"
      ],
      "text/plain": [
       "     ┌───┐ ░            ░       \n",
       "q_0: ┤ X ├─░───■────────░───────\n",
       "     ├───┤ ░   │        ░       \n",
       "q_1: ┤ X ├─░───┼────■───░───────\n",
       "     └───┘ ░ ┌─┴─┐┌─┴─┐ ░ ┌─┐   \n",
       "q_2: ──────░─┤ X ├┤ X ├─░─┤M├───\n",
       "           ░ └───┘└───┘ ░ └╥┘┌─┐\n",
       "q_3: ──────░────────────░──╫─┤M├\n",
       "           ░            ░  ║ └╥┘\n",
       "c: 2/══════════════════════╩══╩═\n",
       "                           0  1 "
      ]
     },
     "execution_count": 84,
     "metadata": {},
     "output_type": "execute_result"
    }
   ],
   "source": [
    "qc_ha = QuantumCircuit(4,2)\n",
    "# encode inputs in qubits 0 and 1\n",
    "qc_ha.x(0) # For a=0, remove this line. For a=1, leave it.\n",
    "qc_ha.x(1) # For b=0, remove this line. For b=1, leave it.\n",
    "qc_ha.barrier()\n",
    "# use cnots to write the XOR of the inputs on qubit 2\n",
    "qc_ha.cx(0,2)\n",
    "qc_ha.cx(1,2)\n",
    "qc_ha.barrier()\n",
    "# extract outputs\n",
    "qc_ha.measure(2,0) # extract XOR value\n",
    "qc_ha.measure(3,1)\n",
    "\n",
    "qc_ha.draw()"
   ]
  },
  {
   "cell_type": "code",
   "execution_count": 85,
   "id": "80353cd4-c1e7-4a70-b519-07a0685b7661",
   "metadata": {},
   "outputs": [
    {
     "data": {
      "text/html": [
       "<pre style=\"word-wrap: normal;white-space: pre;background: #fff0;line-height: 1.1;font-family: &quot;Courier New&quot;,Courier,monospace\">     ┌───┐ ░                 ░       \n",
       "q_0: ┤ X ├─░───■─────────■───░───────\n",
       "     ├───┤ ░   │         │   ░       \n",
       "q_1: ┤ X ├─░───┼────■────■───░───────\n",
       "     └───┘ ░ ┌─┴─┐┌─┴─┐  │   ░ ┌─┐   \n",
       "q_2: ──────░─┤ X ├┤ X ├──┼───░─┤M├───\n",
       "           ░ └───┘└───┘┌─┴─┐ ░ └╥┘┌─┐\n",
       "q_3: ──────░───────────┤ X ├─░──╫─┤M├\n",
       "           ░           └───┘ ░  ║ └╥┘\n",
       "c: 2/═══════════════════════════╩══╩═\n",
       "                                0  1 </pre>"
      ],
      "text/plain": [
       "     ┌───┐ ░                 ░       \n",
       "q_0: ┤ X ├─░───■─────────■───░───────\n",
       "     ├───┤ ░   │         │   ░       \n",
       "q_1: ┤ X ├─░───┼────■────■───░───────\n",
       "     └───┘ ░ ┌─┴─┐┌─┴─┐  │   ░ ┌─┐   \n",
       "q_2: ──────░─┤ X ├┤ X ├──┼───░─┤M├───\n",
       "           ░ └───┘└───┘┌─┴─┐ ░ └╥┘┌─┐\n",
       "q_3: ──────░───────────┤ X ├─░──╫─┤M├\n",
       "           ░           └───┘ ░  ║ └╥┘\n",
       "c: 2/═══════════════════════════╩══╩═\n",
       "                                0  1 "
      ]
     },
     "execution_count": 85,
     "metadata": {},
     "output_type": "execute_result"
    }
   ],
   "source": [
    "qc_ha = QuantumCircuit(4,2)\n",
    "# encode inputs in qubits 0 and 1\n",
    "qc_ha.x(0) # For a=0, remove the this line. For a=1, leave it.\n",
    "qc_ha.x(1) # For b=0, remove the this line. For b=1, leave it.\n",
    "qc_ha.barrier()\n",
    "# use cnots to write the XOR of the inputs on qubit 2\n",
    "qc_ha.cx(0,2)\n",
    "qc_ha.cx(1,2)\n",
    "# use ccx to write the AND of the inputs on qubit 3\n",
    "qc_ha.ccx(0,1,3)\n",
    "qc_ha.barrier()\n",
    "# extract outputs\n",
    "qc_ha.measure(2,0) # extract XOR value\n",
    "qc_ha.measure(3,1) # extract AND value\n",
    "\n",
    "qc_ha.draw()"
   ]
  },
  {
   "cell_type": "code",
   "execution_count": 86,
   "id": "f657d790-3b58-4c07-9904-7606f63c99e7",
   "metadata": {},
   "outputs": [
    {
     "data": {
      "image/png": "[encoded data removed]",
      "text/plain": [
       "<Figure size 504x360 with 1 Axes>"
      ]
     },
     "execution_count": 86,
     "metadata": {},
     "output_type": "execute_result"
    }
   ],
   "source": [
    "qobj = assemble(qc_ha)\n",
    "counts = sim.run(qobj).result().get_counts()\n",
    "plot_histogram(counts)"
   ]
  },
  {
   "cell_type": "code",
   "execution_count": 17,
   "id": "73264e8f-6d5d-4302-a4b7-808eacb0378f",
   "metadata": {},
   "outputs": [
    {
     "data": {
      "text/html": [
       "<h3>Version Information</h3><table><tr><th>Qiskit Software</th><th>Version</th></tr><tr><td><code>qiskit-terra</code></td><td>0.19.1</td></tr><tr><td><code>qiskit-aer</code></td><td>0.10.1</td></tr><tr><td><code>qiskit-ignis</code></td><td>0.7.0</td></tr><tr><td><code>qiskit-ibmq-provider</code></td><td>0.18.3</td></tr><tr><td><code>qiskit</code></td><td>0.34.0</td></tr><tr><th>System information</th></tr><tr><td>Python version</td><td>3.9.7</td></tr><tr><td>Python compiler</td><td>GCC 9.4.0</td></tr><tr><td>Python build</td><td>default, Sep 29 2021 19:20:46</td></tr><tr><td>OS</td><td>Linux</td></tr><tr><td>CPUs</td><td>6</td></tr><tr><td>Memory (Gb)</td><td>0.7328948974609375</td></tr><tr><td colspan='2'>Sat Jan 01 22:56:00 2022 UTC</td></tr></table>"
      ],
      "text/plain": [
       "<IPython.core.display.HTML object>"
      ]
     },
     "metadata": {},
     "output_type": "display_data"
    }
   ],
   "source": [
    "import qiskit.tools.jupyter\n",
    "%qiskit_version_table"
   ]
  },
  {
   "cell_type": "markdown",
   "id": "a770d7dc-4819-49fc-a196-7bbe409b05b7",
   "metadata": {},
   "source": [
    "### The Oracle"
   ]
  },
  {
   "cell_type": "markdown",
   "id": "145544db-6d5e-4afd-a33a-5b7ed749c2b2",
   "metadata": {},
   "source": []
  },
  {
   "cell_type": "code",
   "execution_count": 26,
   "id": "f9f29481-d865-4e97-8d52-448acdda66d9",
   "metadata": {},
   "outputs": [],
   "source": [
    "from qiskit import QuantumCircuit, QuantumRegister, ClassicalRegister, execute, Aer, IBMQ, BasicAer\n",
    "from qiskit.visualization import plot_bloch_multivector,plot_bloch_vector, plot_histogram\n",
    "from qiskit.quantum_info import Statevector\n",
    "import numpy as np \n",
    "import matplotlib"
   ]
  },
  {
   "cell_type": "code",
   "execution_count": 27,
   "id": "802b17e5-2bac-4f48-8236-2c0148a8a3f4",
   "metadata": {},
   "outputs": [],
   "source": [
    "backend = BasicAer.get_backend('qasm_simulator')\n",
    "shots = 1024"
   ]
  },
  {
   "cell_type": "code",
   "execution_count": 28,
   "id": "de4a8a37-7b2c-4fef-bd23-35a8706fad56",
   "metadata": {},
   "outputs": [],
   "source": [
    "style = {'backgroundcolor': 'lightyellow'} # Style of the circuits"
   ]
  },
  {
   "cell_type": "code",
   "execution_count": 29,
   "id": "c477f686-a4c9-4f42-8d21-f04990016360",
   "metadata": {},
   "outputs": [],
   "source": [
    "qreg1 = QuantumRegister(2) # The quantum register of the qubits, in this case 2 qubits\n",
    "register1 = ClassicalRegister(1) \n",
    "\n",
    "qc = QuantumCircuit(qreg1, register1)"
   ]
  },
  {
   "cell_type": "code",
   "execution_count": 30,
   "id": "287f2133-5a57-48d9-8530-b53c7180205b",
   "metadata": {},
   "outputs": [
    {
     "data": {
      "image/png": "[encoded data removed]",
      "text/plain": [
       "<Figure size 219.833x204.68 with 1 Axes>"
      ]
     },
     "execution_count": 30,
     "metadata": {},
     "output_type": "execute_result"
    }
   ],
   "source": [
    "#qc.x(0)\n",
    "qc.x(1)\n",
    "qc.barrier()\n",
    "qc.draw(output='mpl', style=style) "
   ]
  },
  {
   "cell_type": "markdown",
   "id": "71305183-dea2-4e0e-bbd3-5026a0bb3a13",
   "metadata": {},
   "source": [
    "#### Apply Hadamard gatesPermalink"
   ]
  },
  {
   "cell_type": "code",
   "execution_count": 31,
   "id": "1dfc179b-dc10-402a-ab13-c623f29d6217",
   "metadata": {},
   "outputs": [
    {
     "data": {
      "image/png": "[encoded data removed]",
      "text/plain": [
       "<Figure size 340.233x204.68 with 1 Axes>"
      ]
     },
     "execution_count": 31,
     "metadata": {},
     "output_type": "execute_result"
    }
   ],
   "source": [
    "qc.h(0)\n",
    "qc.h(1)\n",
    "qc.barrier()\n",
    "qc.draw(output='mpl', style=style) "
   ]
  },
  {
   "cell_type": "code",
   "execution_count": 32,
   "id": "067c1cfc-3557-467a-b770-784fd408411b",
   "metadata": {},
   "outputs": [
    {
     "data": {
      "image/png": "[encoded data removed]",
      "text/plain": [
       "<Figure size 460.633x204.68 with 1 Axes>"
      ]
     },
     "execution_count": 32,
     "metadata": {},
     "output_type": "execute_result"
    }
   ],
   "source": [
    "qc.cx(0,1)\n",
    "qc.barrier()\n",
    "qc.draw(output='mpl', style=style) "
   ]
  },
  {
   "cell_type": "markdown",
   "id": "22304c5b-4e23-4ae0-9351-218a80954c5c",
   "metadata": {},
   "source": [
    "#### Apply the Hadamard gate to the first (A) qubitPermalink"
   ]
  },
  {
   "cell_type": "code",
   "execution_count": 33,
   "id": "37726f02-3d10-4ac5-be19-78f65d65f39f",
   "metadata": {},
   "outputs": [
    {
     "data": {
      "image/png": "[encoded data removed]",
      "text/plain": [
       "<Figure size 520.833x204.68 with 1 Axes>"
      ]
     },
     "execution_count": 33,
     "metadata": {},
     "output_type": "execute_result"
    }
   ],
   "source": [
    "qc.h(0)\n",
    "qc.draw(output='mpl', style=style) "
   ]
  },
  {
   "cell_type": "code",
   "execution_count": 34,
   "id": "ca5c0cdf-019b-4090-a21c-2260cb6ee05b",
   "metadata": {},
   "outputs": [
    {
     "data": {
      "image/png": "[encoded data removed]",
      "text/plain": [
       "<Figure size 581.033x204.68 with 1 Axes>"
      ]
     },
     "execution_count": 34,
     "metadata": {},
     "output_type": "execute_result"
    }
   ],
   "source": [
    "qc.measure(qreg1[0],register1)\n",
    "qc.draw(output='mpl', style=style) "
   ]
  },
  {
   "cell_type": "markdown",
   "id": "4239a310-2fcf-4e5c-baef-c421b98f5083",
   "metadata": {},
   "source": [
    "#### Execute and get counts"
   ]
  },
  {
   "cell_type": "code",
   "execution_count": 35,
   "id": "7055c7f5-8bf3-4191-a35a-29682ad06382",
   "metadata": {},
   "outputs": [
    {
     "data": {
      "image/png": "[encoded data removed]",
      "text/plain": [
       "<Figure size 504x360 with 1 Axes>"
      ]
     },
     "execution_count": 35,
     "metadata": {},
     "output_type": "execute_result"
    }
   ],
   "source": [
    "results = execute(qc, backend=backend, shots=shots).result()\n",
    "answer = results.get_counts()\n",
    "\n",
    "plot_histogram(answer)"
   ]
  },
  {
   "cell_type": "markdown",
   "id": "4238ac44-5ee5-4867-8ce1-7bf1a4940a3a",
   "metadata": {},
   "source": [
    "#### Putting all together in a functionPermalink"
   ]
  },
  {
   "cell_type": "code",
   "execution_count": 39,
   "id": "7932b354-cab9-4cf4-9878-a296f7ada657",
   "metadata": {},
   "outputs": [],
   "source": [
    "def oracleBalance1(qcir):\n",
    "    qcir.cx(0,1)\n",
    "    qcir.barrier()\n",
    "    \n",
    "    return qcir  \n",
    "#Balanced oracle 1 : CNOT"
   ]
  },
  {
   "cell_type": "code",
   "execution_count": 40,
   "id": "1e8e2f4d-4419-468b-8dde-9b213cdf92cd",
   "metadata": {},
   "outputs": [],
   "source": [
    "def oracleBalance2(qcir):\n",
    "    qcir.x(1)\n",
    "    qcir.cx(0,1)\n",
    "    qcir.barrier()\n",
    "    \n",
    "    return qcir  \n",
    "#Balanced oracle 2 : CNOT (I⊗x)"
   ]
  },
  {
   "cell_type": "code",
   "execution_count": 41,
   "id": "fa34edf7-f9e3-4d7a-919e-25e7664fb3ee",
   "metadata": {},
   "outputs": [],
   "source": [
    "def oracleConstant1(qcir):\n",
    "    \n",
    "    qcir.x(1)\n",
    "    qcir.barrier()\n",
    "    \n",
    "    return qcir  \n",
    "#Constant oracle 1: (I⊗x)"
   ]
  },
  {
   "cell_type": "code",
   "execution_count": 42,
   "id": "1274984d-00ae-45c8-842e-012b25e3a5fa",
   "metadata": {},
   "outputs": [],
   "source": [
    "def oracleConstant2(qcir):\n",
    "    \n",
    "    qcir.barrier()\n",
    "    \n",
    "    return qcir  \n",
    "#Constant oracle 2: (I⊗I)"
   ]
  },
  {
   "cell_type": "code",
   "execution_count": 43,
   "id": "603ec63d-d794-49c1-b229-943e9c64b8a5",
   "metadata": {},
   "outputs": [],
   "source": [
    "def deutsch(oracle):\n",
    "    \n",
    "    Qreg = QuantumRegister(2)\n",
    "    Creg = ClassicalRegister(1) \n",
    "    qcirc = QuantumCircuit(Qreg, Creg)\n",
    "    \n",
    "    qcirc.x(1)\n",
    "    \n",
    "    qcirc.h(0)\n",
    "    qcirc.h(1)\n",
    "    qcirc.barrier()\n",
    "    \n",
    "    qcirc = oracle(qcirc)\n",
    "    \n",
    "    qcirc.h(0)\n",
    "    qcirc.barrier()\n",
    "    \n",
    "    qcirc.measure(Qreg[0],Creg)\n",
    "   \n",
    "    return qcirc\n",
    "#Function to determine if a oracle is constant of balanced"
   ]
  },
  {
   "cell_type": "code",
   "execution_count": 46,
   "id": "921f3190-5216-49cd-af39-10044480e764",
   "metadata": {},
   "outputs": [
    {
     "data": {
      "image/png": "[encoded data removed]",
      "text/plain": [
       "<Figure size 594.449x204.68 with 1 Axes>"
      ]
     },
     "execution_count": 46,
     "metadata": {},
     "output_type": "execute_result"
    }
   ],
   "source": [
    "#Balanced oracle 1\n",
    "resultBalanced1 = deutsch(oracleBalance1)\n",
    "resultBalanced1.draw(output='mpl', style=style)"
   ]
  },
  {
   "cell_type": "code",
   "execution_count": 45,
   "id": "926be3e5-643d-42e1-be8b-85e8a19c9a99",
   "metadata": {},
   "outputs": [
    {
     "data": {
      "image/png": "[encoded data removed]",
      "text/plain": [
       "<Figure size 504x360 with 1 Axes>"
      ]
     },
     "execution_count": 45,
     "metadata": {},
     "output_type": "execute_result"
    }
   ],
   "source": [
    "resultsB1 = execute(resultBalanced1, backend=backend, shots=shots).result()\n",
    "answerB1 = resultsB1.get_counts()\n",
    "\n",
    "plot_histogram(answerB1)"
   ]
  },
  {
   "cell_type": "code",
   "execution_count": 49,
   "id": "fa588cd0-d349-4c3a-a3c7-4a5e562a0e1a",
   "metadata": {},
   "outputs": [
    {
     "data": {
      "image/png": "[encoded data removed]",
      "text/plain": [
       "<Figure size 594.595x204.68 with 1 Axes>"
      ]
     },
     "execution_count": 49,
     "metadata": {},
     "output_type": "execute_result"
    }
   ],
   "source": [
    "#Balanced oracle 2\n",
    "resultBalanced2 = deutsch(oracleBalance1)\n",
    "resultBalanced2.draw(output='mpl', style=style)"
   ]
  },
  {
   "cell_type": "code",
   "execution_count": 50,
   "id": "c1f052e8-ad7f-4a9a-a6bc-2958d64388ac",
   "metadata": {},
   "outputs": [
    {
     "data": {
      "image/png": "[encoded data removed]",
      "text/plain": [
       "<Figure size 504x360 with 1 Axes>"
      ]
     },
     "execution_count": 50,
     "metadata": {},
     "output_type": "execute_result"
    }
   ],
   "source": [
    "resultsB2 = execute(resultBalanced2, backend=backend, shots=shots).result()\n",
    "answerB2 = resultsB2.get_counts()\n",
    "\n",
    "plot_histogram(answerB2)"
   ]
  },
  {
   "cell_type": "code",
   "execution_count": 51,
   "id": "add0a2b0-f38e-4152-af7f-58ff18112282",
   "metadata": {},
   "outputs": [
    {
     "data": {
      "image/png": "[encoded data removed]",
      "text/plain": [
       "<Figure size 594.595x204.68 with 1 Axes>"
      ]
     },
     "execution_count": 51,
     "metadata": {},
     "output_type": "execute_result"
    }
   ],
   "source": [
    "#Constant oracle 1\n",
    "resultConstant1 = deutsch(oracleConstant1)\n",
    "resultConstant1.draw(output='mpl', style=style) "
   ]
  },
  {
   "cell_type": "code",
   "execution_count": 52,
   "id": "97ab9754-2528-443f-a946-79b35539eefa",
   "metadata": {},
   "outputs": [
    {
     "data": {
      "image/png": "[encoded data removed]",
      "text/plain": [
       "<Figure size 504x360 with 1 Axes>"
      ]
     },
     "execution_count": 52,
     "metadata": {},
     "output_type": "execute_result"
    }
   ],
   "source": [
    "resultsC1= execute(resultConstant1, backend=backend, shots=shots).result()\n",
    "answerC1 = resultsC1.get_counts()\n",
    "\n",
    "plot_histogram(answerC1)"
   ]
  },
  {
   "cell_type": "code",
   "execution_count": 53,
   "id": "06e46c49-8682-4e8c-a53f-2d56b2c4abd5",
   "metadata": {},
   "outputs": [
    {
     "data": {
      "image/png": "[encoded data removed]",
      "text/plain": [
       "<Figure size 534.249x204.68 with 1 Axes>"
      ]
     },
     "execution_count": 53,
     "metadata": {},
     "output_type": "execute_result"
    }
   ],
   "source": [
    "#Constant oracle 2\n",
    "resultConstant2 = deutsch(oracleConstant2)\n",
    "resultConstant2.draw(output='mpl', style=style) "
   ]
  },
  {
   "cell_type": "code",
   "execution_count": 54,
   "id": "2f45f5f2-28e3-4a58-a8c2-1403707f9e39",
   "metadata": {},
   "outputs": [
    {
     "data": {
      "image/png": "[encoded data removed]",
      "text/plain": [
       "<Figure size 504x360 with 1 Axes>"
      ]
     },
     "execution_count": 54,
     "metadata": {},
     "output_type": "execute_result"
    }
   ],
   "source": [
    "resultsC2= execute(resultConstant2, backend=backend, shots=shots).result()\n",
    "answerC2 = resultsC2.get_counts()\n",
    "\n",
    "plot_histogram(answerC2)"
   ]
  },
  {
   "cell_type": "markdown",
   "id": "204c7e1a",
   "metadata": {},
   "source": [
    "***\n",
    "## END"
   ]
  }
 ],
 "metadata": {
  "kernelspec": {
   "display_name": "Python 3 (ipykernel)",
   "language": "python",
   "name": "python3"
  },
  "language_info": {
   "codemirror_mode": {
    "name": "ipython",
    "version": 3
   },
   "file_extension": ".py",
   "mimetype": "text/x-python",
   "name": "python",
   "nbconvert_exporter": "python",
   "pygments_lexer": "ipython3",
   "version": "3.9.7"
  }
 },
 "nbformat": 4,
 "nbformat_minor": 5
}
