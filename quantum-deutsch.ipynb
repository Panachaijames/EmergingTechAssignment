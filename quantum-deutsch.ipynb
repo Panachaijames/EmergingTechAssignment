{
 "cells": [
  {
   "cell_type": "markdown",
   "id": "0af27647",
   "metadata": {},
   "source": [
    "## Quantum Computing\n",
    "***"
   ]
  },
  {
   "cell_type": "markdown",
   "id": "8ff30f9f",
   "metadata": {},
   "source": [
    "From the early 20th century, when atom physics was discovered, nothing could ever defy that until quantum physics was found. Quantum particles can move forward and backward in time, exist simultaneously in two places and even teleport. Quantum computers aim to utilize these strange behaviors to their advantage. Richard Feyman, 1965 Nobel Laureate in Physics and one of the fathers of quantum computing in the 1980s, famously said, \"I think I can safely say that nobody understands quantum mechanics”.\n",
    "\n",
    "IBM unveiled the Q System, the world's first quantum computer, in 2019 and explained to newcomers that a quantum computer is capable of solving (much more quickly) a set of much more complex calculations than traditional computers. As a unit of value, \"qubits\" are expected to outpace the traditional bits of classical computing.  In the following article, Juan José García Ripoll, researcher at the Institute of Fundamental Physics within the Spanish National Research Council, provides further insight. \"In classical computing we know how to solve problems thanks to computer language (AND, OR NOT) used when programming. Operations that are not feasible in bit computing can be performed with a quantum computer. In a quantum computer all the numbers and possibilities that can be created with N qubits are superimposed (if there are 3 qubits, there will be 8 simultaneous possible permutations.) With 1,000 qubits the exponential possibilities far exceed those that we have in classical computing”.\n",
    "\n",
    "In contrast to classical computing, there are no quantum computing languages at this time. Researchers work to develop algorithms (mathematics models that classical computers also use) that provide concrete solutions to the problems that are presented. \"They work differently. A quantum computer isn't suitable for performing day-to-day tasks\", Garcia Ripoll explains. \"They don't have memory or a processor. We only have a group of qubits that we use to write information, and we work with those. There isn't an architecture as complicated as the architecture for a conventional computer. Today, quantum machines are primitive systems akin to a calculator at the turn of the last century, but their computing power for very specific problems is much greater than a traditional computer's. There is a dichotomy between what appears very simple and what it does, which is very powerful,” García Ripoll points out."
   ]
  },
  {
   "cell_type": "markdown",
   "id": "18ab2f0f",
   "metadata": {},
   "source": [
    "#### These are some Key different between Quantum and Classic computers"
   ]
  },
  {
   "cell_type": "markdown",
   "id": "a53209db",
   "metadata": {},
   "source": [
    " - The quantum computer processes information differently from classical computers. Instead of relying on transistors, which can only represent either the \"1\" or the \"0\" of binary information at a time, quantum computers use qubits, which can represent both the \"0\" and the \"1\""
   ]
  },
  {
   "cell_type": "markdown",
   "id": "3c578c1c",
   "metadata": {},
   "source": [
    " - A quantum computer’s power grows exponentially in relation to the number of qubits linked together. This differs from a conventional computer, which sees its power increase in direct proportion to the number of transistors. It is for this reason that quantum computers could eventually provide much better performance than classical ones."
   ]
  },
  {
   "cell_type": "markdown",
   "id": "b6124d15",
   "metadata": {},
   "source": [
    " - Despite the fact that quantum computers could drastically outperform classical computers at some tasks — Optimizing delivery routes or simulating chemical reactions, for example — The problem with them is that they are difficult to build and are not expected to offer many advantages in many types of calculations. So even when powerful quantum computers start to appear, most everyday tasks are likely to be handled better by conventional computers."
   ]
  },
  {
   "cell_type": "code",
   "execution_count": 8,
   "id": "e385d296",
   "metadata": {},
   "outputs": [
    {
     "data": {
      "text/html": [
       "<img src=\"https://research-assets.cbinsights.com/2020/12/22124918/Quantum_computing_classical_qubit_infographic_122020.png\" width=\"700\" height=\"700\"/>"
      ],
      "text/plain": [
       "<IPython.core.display.Image object>"
      ]
     },
     "execution_count": 8,
     "metadata": {},
     "output_type": "execute_result"
    }
   ],
   "source": [
    "from IPython.display import Image\n",
    "from IPython.core.display import HTML \n",
    "Image(url= \"https://research-assets.cbinsights.com/2020/12/22124918/Quantum_computing_classical_qubit_infographic_122020.png\", height = 700, width = 700)"
   ]
  },
  {
   "cell_type": "markdown",
   "id": "4d855923",
   "metadata": {},
   "source": [
    "***\n",
    "## The Deutsch-Jozsa algorithm\n",
    "\n",
    "<a href=\"https://akyrillidis.github.io/notes/quant_post_8\">Literature reference</a>"
   ]
  },
  {
   "cell_type": "markdown",
   "id": "63a73608-9b09-4544-950d-d2d1c2d9c5fc",
   "metadata": {},
   "source": [
    "The Deutsch-Jozsa algorithm demonstrates the significance of allowing quantum amplitudes to take both positive and negative values, as opposed to classical probabilities that are always non-negative. Proposed by David Deutsch and Richard Jozsa in 1992, the Deutsch-Jozsa Algorithm was one of the first quantum algorithms that showed that quantum computation could demonstrate an exponential speed-up over a deterministic classical algorithm. The Deutsch-Jozsa Algorithm was the inspiration for Simon’s and Shor’s Algorithm"
   ]
  },
  {
   "cell_type": "markdown",
   "id": "0abe8b94",
   "metadata": {},
   "source": [
    "### The problem setting"
   ]
  },
  {
   "cell_type": "markdown",
   "id": "a6a34755",
   "metadata": {},
   "source": [
    "Let us consider the following problem: There is a univariate function $f$ , defined over the binary alphabet $0,1$, with output range in the same alphabet $0,1$. I.e., $f:0,1⟶0,1$. \n",
    "With a bit of inspection, and making no assumptions about $f$, there are four possible configurations for the function $f$:"
   ]
  },
  {
   "cell_type": "markdown",
   "id": "a215058c",
   "metadata": {},
   "source": [
    "With a bit of inspection, and making no assumptions about $f$, there are four possible configurations for the function $f$:"
   ]
  },
  {
   "cell_type": "markdown",
   "id": "3298f8a0",
   "metadata": {},
   "source": [
    " - Both inputs $0,1$ are mapped to the output $0:f(0)=f(1)=0$."
   ]
  },
  {
   "cell_type": "markdown",
   "id": "2f3d3762",
   "metadata": {},
   "source": [
    " - Both inputs $0,1$ are mapped to the output $1:f(0)=f(1)=1$."
   ]
  },
  {
   "cell_type": "markdown",
   "id": "c4c62b21",
   "metadata": {},
   "source": [
    " - Inputs pass through $f$ unchanged: $f(0)=0$ and $f(1)=1$."
   ]
  },
  {
   "cell_type": "markdown",
   "id": "c62593a5",
   "metadata": {},
   "source": [
    " - Inputs are exchanged after passing through $f:f(0)=1$ and $f(1)=0$."
   ]
  },
  {
   "cell_type": "markdown",
   "id": "67ebfdc7",
   "metadata": {},
   "source": [
    "We will call the first two cases as $f$ being “constant” (i.e., whatever input we insert, the function behaves the same way), and the last two cases as $f$ being balanced.\n",
    "\n",
    "The question is the following: Given a function $f:0,1⟶0,1$ and without knowing anything more than that, determine whether $f$ is a constant or a balanced function with the minimum number of function evaluations."
   ]
  },
  {
   "cell_type": "markdown",
   "id": "79ac54e0-ca53-43cf-9344-6d7e4e1a72ea",
   "metadata": {},
   "source": [
    "#### Quantum Solution"
   ]
  },
  {
   "cell_type": "code",
   "execution_count": 1,
   "id": "d24213f0-6b4a-4a86-8104-f4a9a285afeb",
   "metadata": {},
   "outputs": [
    {
     "data": {
      "text/html": [
       "<img src=\"https://qiskit.org/textbook/ch-algorithms/images/deutsch_steps.png\" width=\"700\" height=\"500\"/>"
      ],
      "text/plain": [
       "<IPython.core.display.Image object>"
      ]
     },
     "execution_count": 1,
     "metadata": {},
     "output_type": "execute_result"
    }
   ],
   "source": [
    "from IPython.display import Image\n",
    "from IPython.core.display import HTML \n",
    "Image(url= \"https://qiskit.org/textbook/ch-algorithms/images/deutsch_steps.png\", height = 500, width = 700)"
   ]
  },
  {
   "cell_type": "markdown",
   "id": "775ad730",
   "metadata": {},
   "source": [
    "### What a classic algorithm would do?"
   ]
  },
  {
   "cell_type": "markdown",
   "id": "fbf60a03",
   "metadata": {},
   "source": [
    "In the classical sense, an algorithm that solves this problem would implement an if-then-else statement:"
   ]
  },
  {
   "cell_type": "raw",
   "id": "e8756e54",
   "metadata": {},
   "source": [
    "if f(0) = 0:\n",
    "\tif f(1) = 0:\n",
    "\t\tprint(\"Constant\")\n",
    "\telse: \n",
    "\t\tprint(\"Balanced\")\n",
    "else:\n",
    "\tif f(1) = 0:\n",
    "\t\tprint(\"Balanced\")\n",
    "\telse: \n",
    "\t\tprint(\"Constant\")"
   ]
  },
  {
   "cell_type": "markdown",
   "id": "785a38f3",
   "metadata": {},
   "source": [
    "as you can see, we require two function evaluations to figure out the answer. In the next sections, we will see how we exploit superposition of states in quantum machines to solve the problem more efficiently."
   ]
  },
  {
   "cell_type": "markdown",
   "id": "990db8f8",
   "metadata": {},
   "source": [
    "***\n",
    "## Qiskit\n"
   ]
  },
  {
   "cell_type": "code",
   "execution_count": 2,
   "id": "06ebbdd1",
   "metadata": {},
   "outputs": [],
   "source": [
    "import qiskit"
   ]
  },
  {
   "cell_type": "code",
   "execution_count": 3,
   "id": "381af649",
   "metadata": {},
   "outputs": [],
   "source": [
    "import qiskit.providers.aer as aer"
   ]
  },
  {
   "cell_type": "code",
   "execution_count": 4,
   "id": "b66189d5",
   "metadata": {},
   "outputs": [],
   "source": [
    "import matplotlib.pyplot as plt"
   ]
  },
  {
   "cell_type": "code",
   "execution_count": 4,
   "id": "693a4709",
   "metadata": {},
   "outputs": [],
   "source": [
    "plt.style.use('ggplot')"
   ]
  },
  {
   "cell_type": "markdown",
   "id": "d6b47876",
   "metadata": {},
   "source": [
    "### Preliminaries\n",
    "***"
   ]
  },
  {
   "cell_type": "markdown",
   "id": "32845a27",
   "metadata": {},
   "source": [
    "$|0 \\rangle = \\begin{bmatrix} 1 \\\\ 0 \\end{bmatrix}$\n",
    "\n",
    "$|1 \\rangle = \\begin{bmatrix} 0 \\\\ 1 \\end{bmatrix}$\n",
    "\n",
    "$|\\psi \\rangle = \\begin{bmatrix} \\alpha \\\\ \\beta \\end{bmatrix}$\n",
    "\n",
    "$|\\alpha = a + bi \\qquad \\beta = c + di \\qquad a,b,c,d \\in \\mathbb{R}$\n",
    "\n",
    "$ \\alpha^2 + \\beta^2 = 1$"
   ]
  },
  {
   "cell_type": "markdown",
   "id": "bdb68b35",
   "metadata": {},
   "source": [
    "<br>\n",
    "\n",
    "### Gates\n",
    "\n",
    "***\n",
    "\n",
    "$ H = \\begin{bmatrix} \\frac{1}{\\sqrt{2}} & \\frac{1}{\\sqrt{2}} \\\\ \\frac{1}{\\sqrt{2}} & .\\frac{1}{\\sqrt{2}} \\end{bmatrix} = \\frac{1}{\\sqrt{2}} \\begin{bmatrix} 1 & 1 \\\\ 1 & -1 \\end{bmatrix}$\n",
    "\n",
    "$ H | 0 \\rangle = \\frac{1}{\\sqrt{2}} \\begin{bmatrix} 1 & 1 \\\\ 1 & -1 \\end{bmatrix} \\begin{bmatrix} 1 \\\\ 0 \\end{bmatrix} = \\frac{1}{\\sqrt{2}} \\begin{bmatrix} 1 \\\\ 1 \\end{bmatrix} = \\begin{bmatrix}  \\frac{1}{\\sqrt{2}} \\\\ \\frac{1}{\\sqrt{2}} \\end{bmatrix} = |+\\rangle $\n",
    "\n",
    "$ H | 1 \\rangle = \\frac{1}{\\sqrt{2}} \\begin{bmatrix} 1 & 1 \\\\ 1 & -1 \\end{bmatrix} \\begin{bmatrix} 0 \\\\ 1 \\end{bmatrix} = \\frac{1}{\\sqrt{2}} \\begin{bmatrix} 1 \\\\ -1 \\end{bmatrix} = \\begin{bmatrix}  \\frac{1}{\\sqrt{2}} \\\\ -\\frac{1}{\\sqrt{2}} \\end{bmatrix} = |-\\rangle  $\n",
    "\n",
    "$H^* = H^{-1}$\n",
    "\n",
    "$(a+bi)^* = a - bi$\n",
    "\n",
    "$ I = \\begin{bmatrix} 1 & 0 \\\\ 0 & 1 \\end{bmatrix} $"
   ]
  },
  {
   "cell_type": "markdown",
   "id": "cbeb227d",
   "metadata": {},
   "source": [
    "<br>\n",
    "\n",
    "### Measurement\n",
    "***\n",
    "\n",
    "$ |\\psi\\rangle = \\begin{bmatrix} \\alpha \\\\ \\beta \\end{bmatrix} \\Leftrightarrow  \\langle \\psi | = \\begin{bmatrix} \\alpha^* & \\beta^* \\end{bmatrix}$\n",
    "\n",
    "#### Probability of measuring $|0\\rangle$ when in $|+\\rangle$\n",
    "\n",
    " $|\\langle 0 | + \\rangle |^2 = |\\langle 0 || + \\rangle |^2= | \\begin{bmatrix} 1 & 0 \\end{bmatrix} \\begin{bmatrix} \\frac{1}{\\sqrt{2}} \\\\ \\frac{1}{\\sqrt{2}} \\end{bmatrix} |^2 = (1)(\\frac{1}{\\sqrt{2}}) + (0)(\\frac{1}{\\sqrt{2}})|^2 = (\\frac{1}{\\sqrt{2}})^2$\n",
    " \n",
    " $|a+bi| = \\sqrt{(a+bi)(a-bi)} = \\sqrt{a^2+b^2}$"
   ]
  },
  {
   "cell_type": "markdown",
   "id": "45e2fe3a",
   "metadata": {},
   "source": [
    "<br>\n",
    "\n",
    "### Constant Zero Function\n",
    "\n",
    "***"
   ]
  },
  {
   "cell_type": "code",
   "execution_count": 8,
   "id": "31badd4c",
   "metadata": {},
   "outputs": [],
   "source": [
    "circuit = qiskit.QuantumCircuit(2,1)"
   ]
  },
  {
   "cell_type": "code",
   "execution_count": 9,
   "id": "1e04d78e",
   "metadata": {},
   "outputs": [
    {
     "data": {
      "text/plain": [
       "<qiskit.circuit.instructionset.InstructionSet at 0x7fa8791374c0>"
      ]
     },
     "execution_count": 9,
     "metadata": {},
     "output_type": "execute_result"
    }
   ],
   "source": [
    "circuit.initialize([1,0],0)"
   ]
  },
  {
   "cell_type": "code",
   "execution_count": 10,
   "id": "6244b9c1",
   "metadata": {},
   "outputs": [
    {
     "data": {
      "text/plain": [
       "<qiskit.circuit.instructionset.InstructionSet at 0x7fa87d573a60>"
      ]
     },
     "execution_count": 10,
     "metadata": {},
     "output_type": "execute_result"
    }
   ],
   "source": [
    "circuit.initialize([0,1],1)"
   ]
  },
  {
   "cell_type": "code",
   "execution_count": 11,
   "id": "0266f2c4",
   "metadata": {},
   "outputs": [
    {
     "data": {
      "text/plain": [
       "<qiskit.circuit.instructionset.InstructionSet at 0x7fa879137820>"
      ]
     },
     "execution_count": 11,
     "metadata": {},
     "output_type": "execute_result"
    }
   ],
   "source": [
    "circuit.h(0)"
   ]
  },
  {
   "cell_type": "code",
   "execution_count": 12,
   "id": "b2e25b49",
   "metadata": {},
   "outputs": [
    {
     "data": {
      "text/plain": [
       "<qiskit.circuit.instructionset.InstructionSet at 0x7fa8797cd9d0>"
      ]
     },
     "execution_count": 12,
     "metadata": {},
     "output_type": "execute_result"
    }
   ],
   "source": [
    "circuit.h(1)"
   ]
  },
  {
   "cell_type": "code",
   "execution_count": 13,
   "id": "62754dca",
   "metadata": {},
   "outputs": [
    {
     "data": {
      "text/plain": [
       "<qiskit.circuit.instructionset.InstructionSet at 0x7fa879137610>"
      ]
     },
     "execution_count": 13,
     "metadata": {},
     "output_type": "execute_result"
    }
   ],
   "source": [
    "circuit.i(1)"
   ]
  },
  {
   "cell_type": "code",
   "execution_count": 14,
   "id": "044727b6",
   "metadata": {},
   "outputs": [
    {
     "data": {
      "text/plain": [
       "<qiskit.circuit.instructionset.InstructionSet at 0x7fa918586fd0>"
      ]
     },
     "execution_count": 14,
     "metadata": {},
     "output_type": "execute_result"
    }
   ],
   "source": [
    "circuit.h(0)"
   ]
  },
  {
   "cell_type": "code",
   "execution_count": 15,
   "id": "d29a3776",
   "metadata": {},
   "outputs": [
    {
     "data": {
      "text/plain": [
       "<qiskit.circuit.instructionset.InstructionSet at 0x7fa879137790>"
      ]
     },
     "execution_count": 15,
     "metadata": {},
     "output_type": "execute_result"
    }
   ],
   "source": [
    "circuit.measure(0,0)"
   ]
  },
  {
   "cell_type": "code",
   "execution_count": 16,
   "id": "e4a63d80",
   "metadata": {},
   "outputs": [
    {
     "data": {
      "image/png": "[encoded data removed]",
      "text/plain": [
       "<Figure size 589.054x368.424 with 1 Axes>"
      ]
     },
     "execution_count": 16,
     "metadata": {},
     "output_type": "execute_result"
    }
   ],
   "source": [
    "circuit.draw(output='mpl', scale=1.8)"
   ]
  },
  {
   "cell_type": "code",
   "execution_count": null,
   "id": "23bdde78",
   "metadata": {},
   "outputs": [],
   "source": []
  },
  {
   "cell_type": "markdown",
   "id": "204c7e1a",
   "metadata": {},
   "source": [
    "***\n",
    "## END"
   ]
  }
 ],
 "metadata": {
  "kernelspec": {
   "display_name": "Python 3 (ipykernel)",
   "language": "python",
   "name": "python3"
  },
  "language_info": {
   "codemirror_mode": {
    "name": "ipython",
    "version": 3
   },
   "file_extension": ".py",
   "mimetype": "text/x-python",
   "name": "python",
   "nbconvert_exporter": "python",
   "pygments_lexer": "ipython3",
   "version": "3.9.7"
  }
 },
 "nbformat": 4,
 "nbformat_minor": 5
}
